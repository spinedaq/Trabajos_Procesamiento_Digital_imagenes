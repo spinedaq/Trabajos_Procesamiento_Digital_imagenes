{
  "nbformat": 4,
  "nbformat_minor": 0,
  "metadata": {
    "colab": {
      "name": "Tarea-FuncionesActivacion.ipynb",
      "provenance": []
    },
    "kernelspec": {
      "name": "python3",
      "display_name": "Python 3"
    },
    "language_info": {
      "name": "python"
    }
  },
  "cells": [
    {
      "cell_type": "markdown",
      "source": [
        "David Leonardo Pabon - 0816045"
      ],
      "metadata": {
        "id": "VALq0OI2DzSI"
      }
    },
    {
      "cell_type": "markdown",
      "source": [
        "# Funcion de activacion identidad"
      ],
      "metadata": {
        "id": "D9M2X0xND7As"
      }
    },
    {
      "cell_type": "code",
      "execution_count": null,
      "metadata": {
        "colab": {
          "base_uri": "https://localhost:8080/",
          "height": 282
        },
        "id": "WuVO4usTDdiH",
        "outputId": "4cb10838-2f91-4e40-b64e-89b76f1005d6"
      },
      "outputs": [
        {
          "output_type": "execute_result",
          "data": {
            "text/plain": [
              "[<matplotlib.lines.Line2D at 0x7fc652fa9550>]"
            ]
          },
          "metadata": {},
          "execution_count": 2
        },
        {
          "output_type": "display_data",
          "data": {
            "text/plain": [
              "<Figure size 432x288 with 1 Axes>"
            ],
            "image/png": "[encoded data removed]"
          },
          "metadata": {
            "needs_background": "light"
          }
        }
      ],
      "source": [
        "import numpy as np\n",
        "import matplotlib.pyplot as plt\n",
        "x = np.linspace(0,10,1000)\n",
        "y = x\n",
        "plt.plot(x,y)"
      ]
    },
    {
      "cell_type": "markdown",
      "source": [
        "El dominio y rango de esta funcion son los reales, su derivada es 1"
      ],
      "metadata": {
        "id": "UiUiFABaEbxG"
      }
    },
    {
      "cell_type": "markdown",
      "source": [
        "# Funcion de activacion step"
      ],
      "metadata": {
        "id": "G6grMiVYEszc"
      }
    },
    {
      "cell_type": "code",
      "source": [
        "import numpy as np\n",
        "import matplotlib.pyplot as plt\n",
        "u = lambda t: np.heaviside(t,1)\n",
        "a = -10\n",
        "b = 10\n",
        "dt = 0.1\n",
        "ti  = np.arange(a, b, dt)\n",
        "u0_i = u(ti)\n",
        "\n",
        "plt.plot(ti,u0_i)"
      ],
      "metadata": {
        "colab": {
          "base_uri": "https://localhost:8080/",
          "height": 282
        },
        "id": "3Ke0eFATE4UB",
        "outputId": "c165f995-ee43-4bf5-8bf4-14e91f0dc7ef"
      },
      "execution_count": null,
      "outputs": [
        {
          "output_type": "execute_result",
          "data": {
            "text/plain": [
              "[<matplotlib.lines.Line2D at 0x7fc6528aea90>]"
            ]
          },
          "metadata": {},
          "execution_count": 5
        },
        {
          "output_type": "display_data",
          "data": {
            "text/plain": [
              "<Figure size 432x288 with 1 Axes>"
            ],
            "image/png": "[encoded data removed]"
          },
          "metadata": {
            "needs_background": "light"
          }
        }
      ]
    },
    {
      "cell_type": "markdown",
      "source": [
        "Su domnio son los reales, su rango es {1,0}"
      ],
      "metadata": {
        "id": "6tqoDBSlFL6_"
      }
    },
    {
      "cell_type": "markdown",
      "source": [
        ""
      ],
      "metadata": {
        "id": "qsIXJsbAGd6S"
      }
    },
    {
      "cell_type": "markdown",
      "source": [
        "# Funcion de activacion sigmoide"
      ],
      "metadata": {
        "id": "M5J6xfgYGe2c"
      }
    },
    {
      "cell_type": "code",
      "source": [
        "import numpy as np\n",
        "import matplotlib.pyplot as plt\n",
        "x = np.linspace(-10,10,1000)\n",
        "dem = 1 + np.exp(-x)\n",
        "y = 1/dem\n",
        "plt.plot(x,y)\n",
        "plt.xlim()\n"
      ],
      "metadata": {
        "colab": {
          "base_uri": "https://localhost:8080/",
          "height": 282
        },
        "id": "Q6mZrsvDGmJk",
        "outputId": "4fb7a01a-106d-4003-9bce-18c8b94b15df"
      },
      "execution_count": null,
      "outputs": [
        {
          "output_type": "execute_result",
          "data": {
            "text/plain": [
              "(-11.0, 11.0)"
            ]
          },
          "metadata": {},
          "execution_count": 18
        },
        {
          "output_type": "display_data",
          "data": {
            "text/plain": [
              "<Figure size 432x288 with 1 Axes>"
            ],
            "image/png": "[encoded data removed]"
          },
          "metadata": {
            "needs_background": "light"
          }
        }
      ]
    },
    {
      "cell_type": "markdown",
      "source": [
        "El dominio de esta funcion son los reales, el rango es (0,1), su derivada es $\\frac{e^{-x}}{(1+e^{-x})^2}$"
      ],
      "metadata": {
        "id": "7aS3diFAHzmY"
      }
    },
    {
      "cell_type": "markdown",
      "source": [
        "# Funcion de activacion Tanh"
      ],
      "metadata": {
        "id": "ZhiHIxG1IWIj"
      }
    },
    {
      "cell_type": "code",
      "source": [
        "import numpy as np\n",
        "import matplotlib.pyplot as plt\n",
        "x = np.linspace(-10,10,1000)\n",
        "num = np.exp(x)-np.exp(-x)\n",
        "dem = np.exp(x)+np.exp(-x)\n",
        "y = num/dem\n",
        "plt.plot(x,y)\n",
        "plt.xlim()"
      ],
      "metadata": {
        "colab": {
          "base_uri": "https://localhost:8080/",
          "height": 282
        },
        "id": "AktX_gV9Iaz6",
        "outputId": "715648fb-867b-4fc1-f5d5-f82fd01d495d"
      },
      "execution_count": null,
      "outputs": [
        {
          "output_type": "execute_result",
          "data": {
            "text/plain": [
              "(-11.0, 11.0)"
            ]
          },
          "metadata": {},
          "execution_count": 19
        },
        {
          "output_type": "display_data",
          "data": {
            "text/plain": [
              "<Figure size 432x288 with 1 Axes>"
            ],
            "image/png": "[encoded data removed]"
          },
          "metadata": {
            "needs_background": "light"
          }
        }
      ]
    },
    {
      "cell_type": "markdown",
      "source": [
        "El dominio de esta funcion son los reales, el rango es (-1,1), su derivada es $\\frac{4}{(e^{x}+e^{-x})^2}$"
      ],
      "metadata": {
        "id": "ZhrbKrkHJE8c"
      }
    },
    {
      "cell_type": "markdown",
      "source": [
        ""
      ],
      "metadata": {
        "id": "LZwXS3fwJdgn"
      }
    },
    {
      "cell_type": "markdown",
      "source": [
        "# Funciones de costo"
      ],
      "metadata": {
        "id": "pt1MkN3gJeXh"
      }
    },
    {
      "cell_type": "markdown",
      "source": [
        "Raíz cuadrada media – RMSE\n",
        "\n",
        "La raíz cuadrada media, es una medida de precisión calculada como la raíz cuadrada media de los residuos. Se entiende como residuos la diferencia entre el valor previsto (correcto) y el valor real obtenido.\n",
        "\n",
        "Características del RMSE:\n",
        "\n",
        "\n",
        "\n",
        "*   Penaliza los valores que son muy grandes.\n",
        "*   No es fácilmente interpretable.\n",
        "*   Funciona muy bien para optimizar regresiones en general.\n",
        "\n",
        "$RMSE = \\sqrt{∑_{i=1}^{n}\\frac{(\\hat{y}-y)^2}{n}}$\n",
        "\n"
      ],
      "metadata": {
        "id": "a94jZIY7Ji0L"
      }
    },
    {
      "cell_type": "markdown",
      "source": [
        "Error absoluto medio – MAE\n",
        "\n",
        "El error absoluto medio, es una medida de precisión y se calcula como la suma media de los valores absolutos de los errores.\n",
        "\n",
        "Características del MAE:\n",
        "\n",
        "\n",
        "\n",
        "*   Más difícil diferenciación y convergencia.\n",
        "*   Penaliza menos los valores grandes\n",
        "*   Es más fácil de interpretar\n",
        "\n",
        "$MAE = ∑_{i=1}^{n}\\frac{|\\hat{y}-y|}{n}$\n"
      ],
      "metadata": {
        "id": "KbwZHB1NKL8X"
      }
    }
  ]
}