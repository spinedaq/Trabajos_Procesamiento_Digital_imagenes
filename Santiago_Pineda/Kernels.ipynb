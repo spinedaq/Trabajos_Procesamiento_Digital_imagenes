{
  "nbformat": 4,
  "nbformat_minor": 0,
  "metadata": {
    "colab": {
      "name": "Kernels.ipynb",
      "provenance": []
    },
    "kernelspec": {
      "name": "python3",
      "display_name": "Python 3"
    },
    "language_info": {
      "name": "python"
    }
  },
  "cells": [
    {
      "cell_type": "markdown",
      "source": [
        "En un notebook escribir la ecuación matemática de cada kernel, crear una clase que permita evaluar  los 10 primeros kernels de la siguiente página [6](http://crsouza.com/2010/03/17/kernel-functions-for-machine-learning-applications/), teniendo en cuenta 1) $x, y \\in \\mathbb{R}^p$ sean muestras 2) $X,Y \\in \\mathbb{R}^{N \\times P}$ sean conjuntos de muestras. Comprobar el correcto funcionameinto sobre datos sintéticos."
      ],
      "metadata": {
        "id": "_AjVa-bhjQai"
      }
    },
    {
      "cell_type": "markdown",
      "source": [
        "#Linear Kernel (Núcleo Lineal):\n",
        "$K(X,Y)=X^{T}Y+c$\n",
        "\n",
        "\\\\\n",
        "#Polynomial Kernel (Núcleo Polinomial):\n",
        "$K(X,Y)=(\\alpha X^{T}Y-c)^{d}$\n",
        "\n",
        "\\\\\n",
        "#Gaussian Kernel (Núcleo Gaussiano):\n",
        "$K(X,Y)=exp(-\\frac{||X-Y||^{2}}{2\\sigma^{2}})$\n",
        "\n",
        "\\\\\n",
        "#Exponential Kernel (NúcleoExponencial):\n",
        "$K(X,Y)=exp(-\\frac{||X-Y||}{2\\sigma^{2}})$\n",
        "\n",
        "\\\\\n",
        "#Laplacian Kernel (Núcleo Laplaciano):\n",
        "$K(X,Y)=exp(-\\frac{||X-Y||}{\\sigma})$\n",
        "\n",
        "\\\\\n",
        "#Anova Kernel (Núcleo Anova):\n",
        "$K(X,Y)=\\sum_{k=1}^{n}exp(-\\sigma(X^{k}-Y^{k})^{2})^{d}$\n",
        "\n",
        "\\\\\n",
        "#Hyperbolic Tangent (Sigmoid) Kernel (Núcleo de Tangente Hiperbólica(Sigmoide)):\n",
        "$K(X,Y)=tanh(\\alpha X^{T}Y+ c)$\n",
        "\n",
        "\\\\\n",
        "#Rational Quadratic Kernel (Núcleo Cuadrático Rotacional):\n",
        "$K(X,Y)=1-\\frac{||X-Y||^{2}}{||X-Y||^{2}+c}$\n",
        "\n",
        "\\\\\n",
        "#Multiquadric Kernel (Núcleo Multicuadrático):\n",
        "$K(X,Y)=\\sqrt{||X-Y||^{2}+c^{2}}$\n",
        "\n",
        "\n",
        "\\\\\n",
        "#Inverse Multiquadric Kernel (Núcleo Multicuadrático Inverso):\n",
        "$K(X,Y)=\\frac{1}{\\sqrt{||X-Y||^{2}+c^{2}}}$"
      ],
      "metadata": {
        "id": "gpb3WHTCjot9"
      }
    },
    {
      "cell_type": "code",
      "execution_count": 132,
      "metadata": {
        "id": "Uo3eiRJbP4LT"
      },
      "outputs": [],
      "source": [
        "#Libreria útil:\n",
        "import numpy as np"
      ]
    },
    {
      "cell_type": "code",
      "source": [
        "from numpy.core.arrayprint import format_float_scientific\n",
        "class Kernel():\n",
        "  \"\"\"\n",
        "  Clase para crear objetos kernel.\n",
        "  ------------------------------------------------------------------------------------------------------\n",
        "  ------------------------------------------------------------------------------------------------------\n",
        "  ATRIBUTOS:\n",
        "  -X(ndarray):Muestra o conjunto de muestras.\n",
        "  -Y(ndarray):Muestra o conjunto de muestras.\n",
        "  ------------------------------------------------------------------------------------------------------\n",
        "  ------------------------------------------------------------------------------------------------------\n",
        "  MÉTODOS:\n",
        "  -Linear_Kernel(método público):Método para evaluar el kernel lineal (parámetro: c)\n",
        "  -Polynomial_Kernel(método público):Método para evaluar el kernel polynomial(parámetros:alpha,c,d)\n",
        "  -Gaussian_Kernel(método público):Método para evaluar el kernel gaussiano(parámetros:sigma)\n",
        "  -Exponential_Kernel(método público):Método para evaluar el kernel exponencial(parámetros:sigma)\n",
        "  -Laplacian_Kernel(método público): Método para evaluar el kernel laplaciano(parámetros:sigma)\n",
        "  -Anova_nucleo(método público): Método para evaluar el kernel Anova(parámetros:sigma,n,d)\n",
        "  -sigmoide(método público): Método para evaluar el kernel sigmoide(parámetros:alpha,c)\n",
        "  -cuadra_rot_kernel(método público): Método para evaluar el kernel cuadrático racional(parámetros:c)\n",
        "  -multicuadra_kernel(método público): Método para evaluar el kernel multicuadrático(parámetros:c)\n",
        "  -multicuadra_inver_kernel(método público): método para evaluar el kernel multicuadrático inverso(parámetros:c)\n",
        "  \"\"\"\n",
        "\n",
        "  def __init__(self, X, Y):\n",
        "    self.X=X\n",
        "    self.Y=Y\n",
        "\n",
        "  def Linear_Kernel(self,c):\n",
        "    if (self.X.ndim==1 and self.Y.ndim==1):\n",
        "      X_T=np.transpose(self.X) #Transpuesta (R{P})\n",
        "      p_punto=np.sum((X_T*self.Y))  #Producto punto (scalar)\n",
        "      K=p_punto+c #scalar\n",
        "      OUT=K #Scalar\n",
        "\n",
        "    elif (self.X.ndim==2 and self.Y.ndim==2):\n",
        "      N=self.X.shape[0] #N\n",
        "      P=self.X.shape[1] #P\n",
        "      OUT=np.zeros((N))\n",
        "      for i in range(N):\n",
        "        #Para una sola fila\n",
        "        X_T=np.transpose(self.X[i,...]) #Transpuesta \n",
        "        p_punto=np.sum(X_T*self.Y) #producto punto (scalar)\n",
        "        K=p_punto+c #scalar\n",
        "        OUT[i]=K #R{N}\n",
        "    \n",
        "    return OUT\n",
        "\n",
        "\n",
        "  def Polynomial_Kernel(self,alpha,c,d):\n",
        "    if (self.X.ndim==1 and self.Y.ndim==1):\n",
        "      X_T=np.transpose(self.X) #Transpuesta (R{P})\n",
        "      p_punto=alpha*np.sum((X_T*self.Y))  #Producto punto (scalar)\n",
        "      parentesis=p_punto+c #scalar\n",
        "      K=parentesis**d #scalar\n",
        "      OUT=K #Scalar\n",
        "\n",
        "\n",
        "    elif (self.X.ndim==2 and self.Y.ndim==2):\n",
        "      N=self.X.shape[0] #N\n",
        "      P=self.X.shape[1] #P\n",
        "      OUT=np.zeros((N))\n",
        "      for i in range(N):\n",
        "        #Para una sola fila:\n",
        "        X_T=np.transpose(self.X[i,...]) #Transpuesta \n",
        "        p_punto=alpha*np.sum(X_T*self.Y) #producto punto (scalar)\n",
        "        parentesis=p_punto+c #scalar\n",
        "        K=parentesis**d #scalar\n",
        "        OUT[i]=K #R{N}\n",
        "    \n",
        "    return OUT\n",
        "\n",
        "\n",
        "  def Gaussian_Kernel(self,sigma):\n",
        "    if (self.X.ndim==1 and self.Y.ndim==1):\n",
        "      resta=self.X-self.Y #R{P}\n",
        "      norma=np.linalg.norm(resta, ord=2) #Norma 2 (scalar)\n",
        "      norma_c=norma**2 #scalar\n",
        "      div=-norma_c/(2*(sigma**2)) #scalar\n",
        "      K=np.exp(div) #scalar\n",
        "      OUT=K #scalar\n",
        "\n",
        "    elif (self.X.ndim==2 and self.Y.ndim==2):\n",
        "        N=self.X.shape[0] #N\n",
        "        P=self.X.shape[1] #P\n",
        "        OUT=np.zeros((N,N))\n",
        "        for i in range(N):\n",
        "          #Para una sola fila:\n",
        "          resta=self.X[i,...]-self.Y #R{NxP}\n",
        "          norma=np.linalg.norm(resta, ord=2, axis=1) #Norma por filas R{N}\n",
        "          norma_c=norma**2 #R{N}\n",
        "          div=-norma_c/(2*sigma**2) #R{N}\n",
        "          K=np.exp(div) #R{N}\n",
        "          OUT[i,...]=K #R{NxN}\n",
        "\n",
        "    return OUT\n",
        "\n",
        "  def Exponential_Kernel(self,sigma):\n",
        "    if (self.X.ndim==1 and self.Y.ndim==1):\n",
        "      resta=self.X-self.Y #R{P}\n",
        "      norma=np.linalg.norm(resta, ord=2) #Norma 2 (scalar)\n",
        "      div=-norma/(2*(sigma**2)) #scalar\n",
        "      K=np.exp(div) #scalar\n",
        "      OUT=K #scalar\n",
        "\n",
        "    elif (self.X.ndim==2 and self.Y.ndim==2):\n",
        "        N=self.X.shape[0] #N\n",
        "        P=self.X.shape[1] #P\n",
        "        OUT=np.zeros((N,N))\n",
        "        for i in range(N):\n",
        "          #Para una sola fila:\n",
        "          resta=self.X[i,...]-self.Y #R{NxP}\n",
        "          norma=np.linalg.norm(resta, ord=2, axis=1) #Norma por filas R{N}\n",
        "          div=-norma/(2*sigma**2) #R{N}\n",
        "          K=np.exp(div) #R{N}\n",
        "          OUT[i,...]=K #R{NxN}\n",
        "\n",
        "    return OUT\n",
        "\n",
        "  \n",
        "  def Laplacian_Kernel(self,sigma):\n",
        "    if (self.X.ndim==1 and self.Y.ndim==1):\n",
        "      resta=self.X-self.Y #R{P}\n",
        "      norma=np.linalg.norm(resta, ord=2) #Norma 2 (scalar)\n",
        "      div=-norma/sigma #scalar\n",
        "      K=np.exp(div) #scalar\n",
        "      OUT=K #scalar\n",
        "\n",
        "    elif (self.X.ndim==2 and self.Y.ndim==2):\n",
        "        N=self.X.shape[0] #N\n",
        "        P=self.X.shape[1] #P\n",
        "        OUT=np.zeros((N,N))\n",
        "        for i in range(N):\n",
        "          #Para una sola fila:\n",
        "          resta=self.X[i,...]-self.Y #R{NxP}\n",
        "          norma=np.linalg.norm(resta, ord=2, axis=1) #Norma por filas R{N}\n",
        "          div=-norma/sigma #R{N}\n",
        "          K=np.exp(div) #R{N}\n",
        "          OUT[i,...]=K #R{NxN}\n",
        "\n",
        "    return OUT\n",
        "\n",
        "  \n",
        "  def Anova_Nucleo(self,sigma,n,d):\n",
        "    if (self.X.ndim==1 and self.Y.ndim==1):\n",
        "      P=self.X.shape[0]\n",
        "      OUT=np.zeros((n,P))\n",
        "      for i in range(n):\n",
        "        resta=(self.X**i)-(self.Y**i) #R{P}\n",
        "        resta_c=resta**2 #R{P}\n",
        "        multipli=-sigma*resta_c #R{P}\n",
        "        exp=np.exp(multipli) #R{P}\n",
        "        K=exp**d #R{P}\n",
        "        OUT[i,...]=K #R{nxP}\n",
        "\n",
        "    elif (self.X.ndim==2 and self.Y.ndim==2):\n",
        "      N=self.X.shape[0] #N\n",
        "      P=self.X.shape[1] #P\n",
        "      out=np.zeros((n,N,P))\n",
        "      OUT=np.zeros((N,n,N,P))\n",
        "      for i in range(N):\n",
        "        #Para una sola fila\n",
        "        for j in range(n):\n",
        "          resta=(self.X[i,...]**i)-(self.Y**i) #R{NxP}\n",
        "          resta_c=resta**2 #R{NxP}\n",
        "          multipli=-sigma*resta_c #R{NxP}\n",
        "          exp=np.exp(multipli) #R{NxP}\n",
        "          K=exp**d #R{NxP}\n",
        "          out[j,...]=K #R{nxNxP}\n",
        "        OUT[i,...]=out #R{NxnxNxP}\n",
        "\n",
        "    \n",
        "    return OUT\n",
        "\n",
        "  def sigmoide(self,alpha,c):\n",
        "    if (self.X.ndim==1 and self.Y.ndim==1):\n",
        "      X_T=np.transpose(self.X) #R{P}\n",
        "      mult=alpha*X_T*self.Y #R{P}\n",
        "      suma=mult+c #R{P}\n",
        "      K=np.tanh(suma) #R{P}\n",
        "      OUT=K #R{P}\n",
        "\n",
        "    elif (self.X.ndim==2 and self.Y.ndim==2):\n",
        "        N=self.X.shape[0] #N\n",
        "        P=self.X.shape[1] #P\n",
        "        OUT=np.zeros((N,N,P))\n",
        "        for i in range(N):\n",
        "          #Para una sola fila:\n",
        "          X_T=np.transpose(self.X[i,...]) #Transpuesta\n",
        "          mult=alpha*X_T*self.Y #R{NxP}\n",
        "          suma=mult+c #R{NxP}\n",
        "          K=np.tanh(suma) #R{NxP}\n",
        "          OUT[i,...]=K #R{NxNxP}\n",
        "\n",
        "    return OUT\n",
        "\n",
        "  \n",
        "  def cuadra_rot_kernel(self, c):\n",
        "    if (self.X.ndim==1 and self.Y.ndim==1):\n",
        "      resta=self.X-self.Y #R{P}\n",
        "      norma=np.linalg.norm(resta, ord=2) #scalar\n",
        "      norma_c=norma**2 #scalar\n",
        "      frac=norma_c/(norma_c+c) #scalar\n",
        "      K=1-frac #scalar\n",
        "      OUT=K #scalar\n",
        "\n",
        "    elif (self.X.ndim==2 and self.Y.ndim==2):\n",
        "        N=self.X.shape[0] #N\n",
        "        P=self.X.shape[1] #P\n",
        "        OUT=np.zeros((N,N))\n",
        "        for i in range(N):\n",
        "          #Para una sola:\n",
        "          resta=self.X[i,...]-self.Y #R{NxP}\n",
        "          norma=np.linalg.norm(resta,ord=2,axis=1) #R{N}\n",
        "          norma_c=norma**2 #R{N}\n",
        "          frac=norma_c/(norma-c+c) #R{N}\n",
        "          K=1-frac #R{N}\n",
        "          OUT[i,...]=K #R{NxN}\n",
        "\n",
        "    return OUT\n",
        "\n",
        "\n",
        "  def multicuadra_kernel(self, c):\n",
        "    if (self.X.ndim==1 and self.Y.ndim==1):\n",
        "      resta=self.X-self.Y #R{P}\n",
        "      norma=np.linalg.norm(resta, ord=2) #scalar\n",
        "      norma_c=norma**2 #scalar\n",
        "      suma=norma_c+c**2 #scalar\n",
        "      K=np.sqrt(suma) #scalar\n",
        "      OUT=K #scalar\n",
        "\n",
        "    elif (self.X.ndim==2 and self.Y.ndim==2):\n",
        "        N=self.X.shape[0] #N\n",
        "        P=self.X.shape[1] #P\n",
        "        OUT=np.zeros((N,N))\n",
        "        for i in range(N):\n",
        "          #Para una sola:\n",
        "          resta=self.X[i,...]-self.Y #R{NxP}\n",
        "          norma=np.linalg.norm(resta,ord=2,axis=1) #R{N}\n",
        "          norma_c=norma**2 #R{N}\n",
        "          suma=norma_c+c**2 #R{N}\n",
        "          K=np.sqrt(suma) #R{N}\n",
        "          OUT[1,...]=K #R{NxN}\n",
        "\n",
        "    return OUT\n",
        "\n",
        "  \n",
        "  def multicuadra_inver_kernel(self, c):\n",
        "    if (self.X.ndim==1 and self.Y.ndim==1):\n",
        "      resta=self.X-self.Y #R{P}\n",
        "      norma=np.linalg.norm(resta, ord=2) #scalar\n",
        "      norma_c=norma**2 #scalar\n",
        "      suma=norma_c+c**2 #scalar\n",
        "      raiz=np.sqrt(suma) #scalar\n",
        "      K=1/raiz #scalar\n",
        "      OUT=K #scalar\n",
        "\n",
        "    elif (self.X.ndim==2 and self.Y.ndim==2):\n",
        "        N=self.X.shape[0] #N\n",
        "        P=self.X.shape[1] #P\n",
        "        OUT=np.zeros((N,N))\n",
        "        for i in range(N):\n",
        "          #Para una sola:\n",
        "          resta=self.X[i,...]-self.Y #R{NxP}\n",
        "          norma=np.linalg.norm(resta,ord=2,axis=1) #R{N}\n",
        "          norma_c=norma**2 #R{N}\n",
        "          suma=norma_c+c**2 #R{N}\n",
        "          raiz=np.sqrt(suma) #R{N}\n",
        "          K=1/raiz #R{N}\n",
        "          OUT[1,...]=K #R{NxN}\n",
        "\n",
        "    return OUT\n"
      ],
      "metadata": {
        "id": "kg4YZlOXpprU"
      },
      "execution_count": 133,
      "outputs": []
    },
    {
      "cell_type": "markdown",
      "source": [
        "#Probando el funcionamiento con un par de muestras:"
      ],
      "metadata": {
        "id": "AwiODxeXJDNn"
      }
    },
    {
      "cell_type": "code",
      "source": [
        "x=np.arange(0,11,2)\n",
        "x"
      ],
      "metadata": {
        "colab": {
          "base_uri": "https://localhost:8080/"
        },
        "id": "BZqLvR7KI3EQ",
        "outputId": "70d1cf85-a476-4b1d-ec70-137b11c29d37"
      },
      "execution_count": 134,
      "outputs": [
        {
          "output_type": "execute_result",
          "data": {
            "text/plain": [
              "array([ 0,  2,  4,  6,  8, 10])"
            ]
          },
          "metadata": {},
          "execution_count": 134
        }
      ]
    },
    {
      "cell_type": "code",
      "source": [
        "y=np.arange(0,21,4)\n",
        "y"
      ],
      "metadata": {
        "colab": {
          "base_uri": "https://localhost:8080/"
        },
        "id": "Hibbg7S2I_NR",
        "outputId": "2978a797-9b22-4705-b215-67ad1da4d55a"
      },
      "execution_count": 135,
      "outputs": [
        {
          "output_type": "execute_result",
          "data": {
            "text/plain": [
              "array([ 0,  4,  8, 12, 16, 20])"
            ]
          },
          "metadata": {},
          "execution_count": 135
        }
      ]
    },
    {
      "cell_type": "code",
      "source": [
        "kern=Kernel(x,y)\n",
        "kern.Linear_Kernel(4) #Linear Kernel (En este caso debe devolver un escalar)"
      ],
      "metadata": {
        "colab": {
          "base_uri": "https://localhost:8080/"
        },
        "id": "n2m-tOTeJPUE",
        "outputId": "fb3731bf-3d00-49d4-b885-a78a05dcbeba"
      },
      "execution_count": 136,
      "outputs": [
        {
          "output_type": "execute_result",
          "data": {
            "text/plain": [
              "444"
            ]
          },
          "metadata": {},
          "execution_count": 136
        }
      ]
    },
    {
      "cell_type": "code",
      "source": [
        "kern.Polynomial_Kernel(3,2,7) #Polynomial Kernel (En este caso debe devolver un escalar)"
      ],
      "metadata": {
        "colab": {
          "base_uri": "https://localhost:8080/"
        },
        "id": "VCLFlNHCKMl-",
        "outputId": "5934423d-50fc-4323-8c15-d36d2388533f"
      },
      "execution_count": 137,
      "outputs": [
        {
          "output_type": "execute_result",
          "data": {
            "text/plain": [
              "-8101865310987104640"
            ]
          },
          "metadata": {},
          "execution_count": 137
        }
      ]
    },
    {
      "cell_type": "code",
      "source": [
        "kern.Gaussian_Kernel(0.0001) #Gaussian Kernel (En este caso debe devolver un escalar)"
      ],
      "metadata": {
        "colab": {
          "base_uri": "https://localhost:8080/"
        },
        "id": "YBvs_iLpLHNe",
        "outputId": "312405a5-c174-4f5e-878b-3976b3665a85"
      },
      "execution_count": 138,
      "outputs": [
        {
          "output_type": "execute_result",
          "data": {
            "text/plain": [
              "0.0"
            ]
          },
          "metadata": {},
          "execution_count": 138
        }
      ]
    },
    {
      "cell_type": "code",
      "source": [
        "kern.Exponential_Kernel(0.00001) #Exponential Kernel (En este caso debe devolver un escalar)"
      ],
      "metadata": {
        "colab": {
          "base_uri": "https://localhost:8080/"
        },
        "id": "CbwxBcv-L9f4",
        "outputId": "eecc3a75-0515-422b-b473-5eb3d382acf4"
      },
      "execution_count": 139,
      "outputs": [
        {
          "output_type": "execute_result",
          "data": {
            "text/plain": [
              "0.0"
            ]
          },
          "metadata": {},
          "execution_count": 139
        }
      ]
    },
    {
      "cell_type": "code",
      "source": [
        "kern.Laplacian_Kernel(2)  #Laplacian Kernel (En este caso debe devolver un escalar)"
      ],
      "metadata": {
        "colab": {
          "base_uri": "https://localhost:8080/"
        },
        "id": "Hpo3TNcqMMsM",
        "outputId": "5af7ef4f-b321-4250-9bec-aa38478c7ba0"
      },
      "execution_count": 140,
      "outputs": [
        {
          "output_type": "execute_result",
          "data": {
            "text/plain": [
              "0.0006014311535158234"
            ]
          },
          "metadata": {},
          "execution_count": 140
        }
      ]
    },
    {
      "cell_type": "code",
      "source": [
        "a=kern.Anova_Nucleo(3,4,3) #Anova Kernel (En este caso debe devolver R{4,6})\n",
        "print(a,a.shape)"
      ],
      "metadata": {
        "colab": {
          "base_uri": "https://localhost:8080/"
        },
        "id": "sWffmwmxMZha",
        "outputId": "fe1a04dd-8015-4c8b-d079-4ea6df66590e"
      },
      "execution_count": 141,
      "outputs": [
        {
          "output_type": "stream",
          "name": "stdout",
          "text": [
            "[[1.00000000e+000 1.00000000e+000 1.00000000e+000 1.00000000e+000\n",
            "  1.00000000e+000 1.00000000e+000]\n",
            " [1.00000000e+000 2.31952283e-016 2.89464031e-063 1.94351485e-141\n",
            "  7.02066780e-251 0.00000000e+000]\n",
            " [1.00000000e+000 0.00000000e+000 0.00000000e+000 0.00000000e+000\n",
            "  0.00000000e+000 0.00000000e+000]\n",
            " [1.00000000e+000 0.00000000e+000 0.00000000e+000 0.00000000e+000\n",
            "  0.00000000e+000 0.00000000e+000]] (4, 6)\n"
          ]
        }
      ]
    },
    {
      "cell_type": "code",
      "source": [
        "a=kern.sigmoide(2,6) #Sigmoide (En este caso deb devolver R{6})\n",
        "print(a,a.shape)"
      ],
      "metadata": {
        "colab": {
          "base_uri": "https://localhost:8080/"
        },
        "id": "osH_YgkJNmWa",
        "outputId": "a85f8b68-a5b0-4835-c86a-dea962a09e7d"
      },
      "execution_count": 142,
      "outputs": [
        {
          "output_type": "stream",
          "name": "stdout",
          "text": [
            "[0.99998771 1.         1.         1.         1.         1.        ] (6,)\n"
          ]
        }
      ]
    },
    {
      "cell_type": "code",
      "source": [
        "kern.cuadra_rot_kernel(2) #Kernel Cuadrático Racional(en este caso debe devolver un escalar)"
      ],
      "metadata": {
        "colab": {
          "base_uri": "https://localhost:8080/"
        },
        "id": "pC7yIIN5OBnZ",
        "outputId": "e0f778ce-8c9c-4302-e312-fa4fc25d2836"
      },
      "execution_count": 143,
      "outputs": [
        {
          "output_type": "execute_result",
          "data": {
            "text/plain": [
              "0.009009009009009028"
            ]
          },
          "metadata": {},
          "execution_count": 143
        }
      ]
    },
    {
      "cell_type": "code",
      "source": [
        "kern.multicuadra_kernel(2) #Kernel Multicuadratico(en este caso debe devolver un escalar)"
      ],
      "metadata": {
        "colab": {
          "base_uri": "https://localhost:8080/"
        },
        "id": "vgmTyvR3OT0q",
        "outputId": "73db133a-0bf3-48f9-f291-06ee3128eae4"
      },
      "execution_count": 144,
      "outputs": [
        {
          "output_type": "execute_result",
          "data": {
            "text/plain": [
              "14.966629547095765"
            ]
          },
          "metadata": {},
          "execution_count": 144
        }
      ]
    },
    {
      "cell_type": "code",
      "source": [
        "kern.multicuadra_inver_kernel(2) #Kernel Multicuadratico Inverso(en este caso debe devolver un escalar)"
      ],
      "metadata": {
        "colab": {
          "base_uri": "https://localhost:8080/"
        },
        "id": "V40QhZKGOjtR",
        "outputId": "3954803a-a44a-4c60-8442-1f4107c219db"
      },
      "execution_count": 145,
      "outputs": [
        {
          "output_type": "execute_result",
          "data": {
            "text/plain": [
              "0.0668153104781061"
            ]
          },
          "metadata": {},
          "execution_count": 145
        }
      ]
    },
    {
      "cell_type": "markdown",
      "source": [
        "#Probando el funcionamiento entre todos los pares de muestras de los dos conjuntos de muestras:"
      ],
      "metadata": {
        "id": "inC0yLhPOrj_"
      }
    },
    {
      "cell_type": "code",
      "source": [
        "x=np.random.randint(1,20,(4,5))\n",
        "x"
      ],
      "metadata": {
        "colab": {
          "base_uri": "https://localhost:8080/"
        },
        "id": "giwpP10PPBLz",
        "outputId": "b0b5cbeb-78d4-4c99-a9fb-004414445851"
      },
      "execution_count": 146,
      "outputs": [
        {
          "output_type": "execute_result",
          "data": {
            "text/plain": [
              "array([[18, 13,  5,  5,  9],\n",
              "       [18,  1,  7,  8, 18],\n",
              "       [14, 10, 10,  1, 12],\n",
              "       [19,  5, 10, 15,  1]])"
            ]
          },
          "metadata": {},
          "execution_count": 146
        }
      ]
    },
    {
      "cell_type": "code",
      "source": [
        "y=np.random.randint(1,40,(4,5))\n",
        "y"
      ],
      "metadata": {
        "colab": {
          "base_uri": "https://localhost:8080/"
        },
        "id": "YRFq0wNfPMrD",
        "outputId": "c503f8cc-421f-41aa-f5d1-3040903489c7"
      },
      "execution_count": 147,
      "outputs": [
        {
          "output_type": "execute_result",
          "data": {
            "text/plain": [
              "array([[11,  4, 22, 31, 29],\n",
              "       [23, 10, 14, 11, 34],\n",
              "       [33, 19, 24, 26, 18],\n",
              "       [ 6, 23,  8, 11, 29]])"
            ]
          },
          "metadata": {},
          "execution_count": 147
        }
      ]
    },
    {
      "cell_type": "code",
      "source": [
        "kern=Kernel(x,y)\n",
        "a=kern.Linear_Kernel(4) #Linear Kernel (En este caso debe devolver R{4})\n",
        "print(a,a.shape)"
      ],
      "metadata": {
        "colab": {
          "base_uri": "https://localhost:8080/"
        },
        "id": "HQTu8ATJPVwN",
        "outputId": "6aa41a83-2434-42f2-e125-bd798f0b3d40"
      },
      "execution_count": 148,
      "outputs": [
        {
          "output_type": "stream",
          "name": "stdout",
          "text": [
            "[3771. 4462. 3665. 3646.] (4,)\n"
          ]
        }
      ]
    },
    {
      "cell_type": "code",
      "source": [
        "a=kern.Polynomial_Kernel(2,3,2) #Polynomial Kernel (En este caso debe devolver R{4})\n",
        "print(a,a.shape)"
      ],
      "metadata": {
        "colab": {
          "base_uri": "https://localhost:8080/"
        },
        "id": "rIG-oR5-8Ojs",
        "outputId": "975426f2-f41a-460b-d3b5-b6dc181343b8"
      },
      "execution_count": 149,
      "outputs": [
        {
          "output_type": "stream",
          "name": "stdout",
          "text": [
            "[56806369. 79548561. 53655625. 53100369.] (4,)\n"
          ]
        }
      ]
    },
    {
      "cell_type": "code",
      "source": [
        "a=kern.Gaussian_Kernel(2) #Gaussian Kernel (En este caso debe devolver R{4x4})\n",
        "print(a,a.shape)"
      ],
      "metadata": {
        "colab": {
          "base_uri": "https://localhost:8080/"
        },
        "id": "R_jeagT48kPm",
        "outputId": "f24ab7cf-feb8-41a6-8440-91f30f476b20"
      },
      "execution_count": 150,
      "outputs": [
        {
          "output_type": "stream",
          "name": "stdout",
          "text": [
            "[[6.93775077e-82 7.47197234e-43 7.86844816e-63 3.94809638e-38]\n",
            " [2.24081523e-51 1.58321429e-23 8.29328334e-64 6.25620584e-42]\n",
            " [1.55874650e-75 1.07320386e-37 3.02993632e-71 1.03862026e-34]\n",
            " [1.56954587e-68 8.29328334e-64 6.63381541e-55 3.89051524e-71]] (4, 4)\n"
          ]
        }
      ]
    },
    {
      "cell_type": "code",
      "source": [
        "a=kern.Exponential_Kernel(2) #EXponential Kernel (En este caso debe devolver R{4x4})\n",
        "print(a,a.shape)"
      ],
      "metadata": {
        "colab": {
          "base_uri": "https://localhost:8080/"
        },
        "id": "ZJKyz-Bz9to4",
        "outputId": "96385f63-4582-4e9e-9b2f-5ebd6bc8db62"
      },
      "execution_count": 151,
      "outputs": [
        {
          "output_type": "stream",
          "name": "stdout",
          "text": [
            "[[0.00796137 0.03074287 0.01458322 0.03758684]\n",
            " [0.02196882 0.07717053 0.01410797 0.03194485]\n",
            " [0.00965598 0.03831181 0.01105132 0.04382727]\n",
            " [0.01206255 0.01410797 0.01927604 0.01108973]] (4, 4)\n"
          ]
        }
      ]
    },
    {
      "cell_type": "code",
      "source": [
        "a=kern.Laplacian_Kernel(2) #Laplacian Kernel (En este caso debe devolver R{4x4})\n",
        "print(a,a.shape)"
      ],
      "metadata": {
        "colab": {
          "base_uri": "https://localhost:8080/"
        },
        "id": "aCh8Xgim-CJJ",
        "outputId": "2d378cd6-4e7f-4a0b-aed4-f585dd1c3c21"
      },
      "execution_count": 152,
      "outputs": [
        {
          "output_type": "stream",
          "name": "stdout",
          "text": [
            "[[4.01746420e-09 8.93259882e-07 4.52286761e-08 1.99592142e-06]\n",
            " [2.32930817e-07 3.54654787e-05 3.96148991e-08 1.04136593e-06]\n",
            " [8.69331764e-09 2.15442143e-06 1.49161504e-08 3.68958710e-06]\n",
            " [2.11717721e-08 3.96148991e-08 1.38061169e-07 1.51246026e-08]] (4, 4)\n"
          ]
        }
      ]
    },
    {
      "cell_type": "code",
      "source": [
        "a=kern.Anova_Nucleo(2,5,2) #Anova Kernel (En este caso debe devolver R{4x5x4x5})\n",
        "print(a,a.shape)"
      ],
      "metadata": {
        "colab": {
          "base_uri": "https://localhost:8080/"
        },
        "id": "zTGH5pDY-b7o",
        "outputId": "46168377-75a6-4e67-ee02-05245e396f36"
      },
      "execution_count": 153,
      "outputs": [
        {
          "output_type": "stream",
          "name": "stdout",
          "text": [
            "[[[[1.00000000e+000 1.00000000e+000 1.00000000e+000 1.00000000e+000\n",
            "    1.00000000e+000]\n",
            "   [1.00000000e+000 1.00000000e+000 1.00000000e+000 1.00000000e+000\n",
            "    1.00000000e+000]\n",
            "   [1.00000000e+000 1.00000000e+000 1.00000000e+000 1.00000000e+000\n",
            "    1.00000000e+000]\n",
            "   [1.00000000e+000 1.00000000e+000 1.00000000e+000 1.00000000e+000\n",
            "    1.00000000e+000]]\n",
            "\n",
            "  [[1.00000000e+000 1.00000000e+000 1.00000000e+000 1.00000000e+000\n",
            "    1.00000000e+000]\n",
            "   [1.00000000e+000 1.00000000e+000 1.00000000e+000 1.00000000e+000\n",
            "    1.00000000e+000]\n",
            "   [1.00000000e+000 1.00000000e+000 1.00000000e+000 1.00000000e+000\n",
            "    1.00000000e+000]\n",
            "   [1.00000000e+000 1.00000000e+000 1.00000000e+000 1.00000000e+000\n",
            "    1.00000000e+000]]\n",
            "\n",
            "  [[1.00000000e+000 1.00000000e+000 1.00000000e+000 1.00000000e+000\n",
            "    1.00000000e+000]\n",
            "   [1.00000000e+000 1.00000000e+000 1.00000000e+000 1.00000000e+000\n",
            "    1.00000000e+000]\n",
            "   [1.00000000e+000 1.00000000e+000 1.00000000e+000 1.00000000e+000\n",
            "    1.00000000e+000]\n",
            "   [1.00000000e+000 1.00000000e+000 1.00000000e+000 1.00000000e+000\n",
            "    1.00000000e+000]]\n",
            "\n",
            "  [[1.00000000e+000 1.00000000e+000 1.00000000e+000 1.00000000e+000\n",
            "    1.00000000e+000]\n",
            "   [1.00000000e+000 1.00000000e+000 1.00000000e+000 1.00000000e+000\n",
            "    1.00000000e+000]\n",
            "   [1.00000000e+000 1.00000000e+000 1.00000000e+000 1.00000000e+000\n",
            "    1.00000000e+000]\n",
            "   [1.00000000e+000 1.00000000e+000 1.00000000e+000 1.00000000e+000\n",
            "    1.00000000e+000]]\n",
            "\n",
            "  [[1.00000000e+000 1.00000000e+000 1.00000000e+000 1.00000000e+000\n",
            "    1.00000000e+000]\n",
            "   [1.00000000e+000 1.00000000e+000 1.00000000e+000 1.00000000e+000\n",
            "    1.00000000e+000]\n",
            "   [1.00000000e+000 1.00000000e+000 1.00000000e+000 1.00000000e+000\n",
            "    1.00000000e+000]\n",
            "   [1.00000000e+000 1.00000000e+000 1.00000000e+000 1.00000000e+000\n",
            "    1.00000000e+000]]]\n",
            "\n",
            "\n",
            " [[[7.55581902e-086 2.31952283e-016 0.00000000e+000 0.00000000e+000\n",
            "    6.33097734e-211]\n",
            "   [3.72007598e-044 1.94351485e-141 7.55581902e-086 2.31952283e-016\n",
            "    0.00000000e+000]\n",
            "   [0.00000000e+000 0.00000000e+000 0.00000000e+000 0.00000000e+000\n",
            "    1.00000000e+000]\n",
            "   [7.02066780e-251 0.00000000e+000 1.83156389e-002 2.31952283e-016\n",
            "    6.33097734e-211]]\n",
            "\n",
            "  [[7.55581902e-086 2.31952283e-016 0.00000000e+000 0.00000000e+000\n",
            "    6.33097734e-211]\n",
            "   [3.72007598e-044 1.94351485e-141 7.55581902e-086 2.31952283e-016\n",
            "    0.00000000e+000]\n",
            "   [0.00000000e+000 0.00000000e+000 0.00000000e+000 0.00000000e+000\n",
            "    1.00000000e+000]\n",
            "   [7.02066780e-251 0.00000000e+000 1.83156389e-002 2.31952283e-016\n",
            "    6.33097734e-211]]\n",
            "\n",
            "  [[7.55581902e-086 2.31952283e-016 0.00000000e+000 0.00000000e+000\n",
            "    6.33097734e-211]\n",
            "   [3.72007598e-044 1.94351485e-141 7.55581902e-086 2.31952283e-016\n",
            "    0.00000000e+000]\n",
            "   [0.00000000e+000 0.00000000e+000 0.00000000e+000 0.00000000e+000\n",
            "    1.00000000e+000]\n",
            "   [7.02066780e-251 0.00000000e+000 1.83156389e-002 2.31952283e-016\n",
            "    6.33097734e-211]]\n",
            "\n",
            "  [[7.55581902e-086 2.31952283e-016 0.00000000e+000 0.00000000e+000\n",
            "    6.33097734e-211]\n",
            "   [3.72007598e-044 1.94351485e-141 7.55581902e-086 2.31952283e-016\n",
            "    0.00000000e+000]\n",
            "   [0.00000000e+000 0.00000000e+000 0.00000000e+000 0.00000000e+000\n",
            "    1.00000000e+000]\n",
            "   [7.02066780e-251 0.00000000e+000 1.83156389e-002 2.31952283e-016\n",
            "    6.33097734e-211]]\n",
            "\n",
            "  [[7.55581902e-086 2.31952283e-016 0.00000000e+000 0.00000000e+000\n",
            "    6.33097734e-211]\n",
            "   [3.72007598e-044 1.94351485e-141 7.55581902e-086 2.31952283e-016\n",
            "    0.00000000e+000]\n",
            "   [0.00000000e+000 0.00000000e+000 0.00000000e+000 0.00000000e+000\n",
            "    1.00000000e+000]\n",
            "   [7.02066780e-251 0.00000000e+000 1.83156389e-002 2.31952283e-016\n",
            "    6.33097734e-211]]]\n",
            "\n",
            "\n",
            " [[[0.00000000e+000 0.00000000e+000 0.00000000e+000 0.00000000e+000\n",
            "    0.00000000e+000]\n",
            "   [0.00000000e+000 1.00000000e+000 0.00000000e+000 0.00000000e+000\n",
            "    0.00000000e+000]\n",
            "   [0.00000000e+000 0.00000000e+000 0.00000000e+000 0.00000000e+000\n",
            "    0.00000000e+000]\n",
            "   [0.00000000e+000 0.00000000e+000 0.00000000e+000 0.00000000e+000\n",
            "    0.00000000e+000]]\n",
            "\n",
            "  [[0.00000000e+000 0.00000000e+000 0.00000000e+000 0.00000000e+000\n",
            "    0.00000000e+000]\n",
            "   [0.00000000e+000 1.00000000e+000 0.00000000e+000 0.00000000e+000\n",
            "    0.00000000e+000]\n",
            "   [0.00000000e+000 0.00000000e+000 0.00000000e+000 0.00000000e+000\n",
            "    0.00000000e+000]\n",
            "   [0.00000000e+000 0.00000000e+000 0.00000000e+000 0.00000000e+000\n",
            "    0.00000000e+000]]\n",
            "\n",
            "  [[0.00000000e+000 0.00000000e+000 0.00000000e+000 0.00000000e+000\n",
            "    0.00000000e+000]\n",
            "   [0.00000000e+000 1.00000000e+000 0.00000000e+000 0.00000000e+000\n",
            "    0.00000000e+000]\n",
            "   [0.00000000e+000 0.00000000e+000 0.00000000e+000 0.00000000e+000\n",
            "    0.00000000e+000]\n",
            "   [0.00000000e+000 0.00000000e+000 0.00000000e+000 0.00000000e+000\n",
            "    0.00000000e+000]]\n",
            "\n",
            "  [[0.00000000e+000 0.00000000e+000 0.00000000e+000 0.00000000e+000\n",
            "    0.00000000e+000]\n",
            "   [0.00000000e+000 1.00000000e+000 0.00000000e+000 0.00000000e+000\n",
            "    0.00000000e+000]\n",
            "   [0.00000000e+000 0.00000000e+000 0.00000000e+000 0.00000000e+000\n",
            "    0.00000000e+000]\n",
            "   [0.00000000e+000 0.00000000e+000 0.00000000e+000 0.00000000e+000\n",
            "    0.00000000e+000]]\n",
            "\n",
            "  [[0.00000000e+000 0.00000000e+000 0.00000000e+000 0.00000000e+000\n",
            "    0.00000000e+000]\n",
            "   [0.00000000e+000 1.00000000e+000 0.00000000e+000 0.00000000e+000\n",
            "    0.00000000e+000]\n",
            "   [0.00000000e+000 0.00000000e+000 0.00000000e+000 0.00000000e+000\n",
            "    0.00000000e+000]\n",
            "   [0.00000000e+000 0.00000000e+000 0.00000000e+000 0.00000000e+000\n",
            "    0.00000000e+000]]]\n",
            "\n",
            "\n",
            " [[[0.00000000e+000 0.00000000e+000 0.00000000e+000 0.00000000e+000\n",
            "    0.00000000e+000]\n",
            "   [0.00000000e+000 0.00000000e+000 0.00000000e+000 0.00000000e+000\n",
            "    0.00000000e+000]\n",
            "   [0.00000000e+000 0.00000000e+000 0.00000000e+000 0.00000000e+000\n",
            "    0.00000000e+000]\n",
            "   [0.00000000e+000 0.00000000e+000 0.00000000e+000 0.00000000e+000\n",
            "    0.00000000e+000]]\n",
            "\n",
            "  [[0.00000000e+000 0.00000000e+000 0.00000000e+000 0.00000000e+000\n",
            "    0.00000000e+000]\n",
            "   [0.00000000e+000 0.00000000e+000 0.00000000e+000 0.00000000e+000\n",
            "    0.00000000e+000]\n",
            "   [0.00000000e+000 0.00000000e+000 0.00000000e+000 0.00000000e+000\n",
            "    0.00000000e+000]\n",
            "   [0.00000000e+000 0.00000000e+000 0.00000000e+000 0.00000000e+000\n",
            "    0.00000000e+000]]\n",
            "\n",
            "  [[0.00000000e+000 0.00000000e+000 0.00000000e+000 0.00000000e+000\n",
            "    0.00000000e+000]\n",
            "   [0.00000000e+000 0.00000000e+000 0.00000000e+000 0.00000000e+000\n",
            "    0.00000000e+000]\n",
            "   [0.00000000e+000 0.00000000e+000 0.00000000e+000 0.00000000e+000\n",
            "    0.00000000e+000]\n",
            "   [0.00000000e+000 0.00000000e+000 0.00000000e+000 0.00000000e+000\n",
            "    0.00000000e+000]]\n",
            "\n",
            "  [[0.00000000e+000 0.00000000e+000 0.00000000e+000 0.00000000e+000\n",
            "    0.00000000e+000]\n",
            "   [0.00000000e+000 0.00000000e+000 0.00000000e+000 0.00000000e+000\n",
            "    0.00000000e+000]\n",
            "   [0.00000000e+000 0.00000000e+000 0.00000000e+000 0.00000000e+000\n",
            "    0.00000000e+000]\n",
            "   [0.00000000e+000 0.00000000e+000 0.00000000e+000 0.00000000e+000\n",
            "    0.00000000e+000]]\n",
            "\n",
            "  [[0.00000000e+000 0.00000000e+000 0.00000000e+000 0.00000000e+000\n",
            "    0.00000000e+000]\n",
            "   [0.00000000e+000 0.00000000e+000 0.00000000e+000 0.00000000e+000\n",
            "    0.00000000e+000]\n",
            "   [0.00000000e+000 0.00000000e+000 0.00000000e+000 0.00000000e+000\n",
            "    0.00000000e+000]\n",
            "   [0.00000000e+000 0.00000000e+000 0.00000000e+000 0.00000000e+000\n",
            "    0.00000000e+000]]]] (4, 5, 4, 5)\n"
          ]
        }
      ]
    },
    {
      "cell_type": "code",
      "source": [
        "a=kern.sigmoide(2,5) #Sigmoide (En este caso debe retornar R{4x4x5})\n",
        "print(a,a.shape)"
      ],
      "metadata": {
        "colab": {
          "base_uri": "https://localhost:8080/"
        },
        "id": "6YsSJcv0WqkV",
        "outputId": "ba9b1075-baec-42f4-a46c-34fdd0641961"
      },
      "execution_count": 154,
      "outputs": [
        {
          "output_type": "stream",
          "name": "stdout",
          "text": [
            "[[[1. 1. 1. 1. 1.]\n",
            "  [1. 1. 1. 1. 1.]\n",
            "  [1. 1. 1. 1. 1.]\n",
            "  [1. 1. 1. 1. 1.]]\n",
            "\n",
            " [[1. 1. 1. 1. 1.]\n",
            "  [1. 1. 1. 1. 1.]\n",
            "  [1. 1. 1. 1. 1.]\n",
            "  [1. 1. 1. 1. 1.]]\n",
            "\n",
            " [[1. 1. 1. 1. 1.]\n",
            "  [1. 1. 1. 1. 1.]\n",
            "  [1. 1. 1. 1. 1.]\n",
            "  [1. 1. 1. 1. 1.]]\n",
            "\n",
            " [[1. 1. 1. 1. 1.]\n",
            "  [1. 1. 1. 1. 1.]\n",
            "  [1. 1. 1. 1. 1.]\n",
            "  [1. 1. 1. 1. 1.]]] (4, 4, 5)\n"
          ]
        }
      ]
    },
    {
      "cell_type": "code",
      "source": [
        "a=kern.cuadra_rot_kernel(2) #Rational cuadratic kernel (En este caso debe retornar R{4x4})\n",
        "print(a,a.shape)"
      ],
      "metadata": {
        "colab": {
          "base_uri": "https://localhost:8080/"
        },
        "id": "NL1vjujAXC02",
        "outputId": "778a251a-f5fe-4338-9a98-a0b94ce6d9bb"
      },
      "execution_count": 155,
      "outputs": [
        {
          "output_type": "stream",
          "name": "stdout",
          "text": [
            "[[-37.66522986 -26.85677655 -32.82306905 -25.2488095 ]\n",
            " [-29.5450487  -19.49390153 -33.0881211  -26.54995463]\n",
            " [-36.12142239 -25.0959767  -35.04164258 -24.01999201]\n",
            " [-34.34119409 -33.0881211  -30.591138   -35.01388621]] (4, 4)\n"
          ]
        }
      ]
    },
    {
      "cell_type": "code",
      "source": [
        "a=kern.multicuadra_kernel(3) #Multicuadratic kernel (En este caso debe retornar R{4x4})\n",
        "print(a,a.shape)"
      ],
      "metadata": {
        "colab": {
          "base_uri": "https://localhost:8080/"
        },
        "id": "hAINDviKYlLG",
        "outputId": "8608525a-4f32-4592-f9fb-905f7742765c"
      },
      "execution_count": 156,
      "outputs": [
        {
          "output_type": "stream",
          "name": "stdout",
          "text": [
            "[[ 0.          0.          0.          0.        ]\n",
            " [35.4682957  34.21987726 31.73326331 36.138622  ]\n",
            " [ 0.          0.          0.          0.        ]\n",
            " [ 0.          0.          0.          0.        ]] (4, 4)\n"
          ]
        }
      ]
    },
    {
      "cell_type": "code",
      "source": [
        "a=kern.multicuadra_inver_kernel(4) #Multicuadratic inverse kernel (En este caso debe retornar R{4x4})\n",
        "print(a,a.shape)"
      ],
      "metadata": {
        "colab": {
          "base_uri": "https://localhost:8080/"
        },
        "id": "RgcqvjFeZFbp",
        "outputId": "2abf795f-b464-4723-a9e6-9b957b90dbbe"
      },
      "execution_count": 157,
      "outputs": [
        {
          "output_type": "stream",
          "name": "stdout",
          "text": [
            "[[0.         0.         0.         0.        ]\n",
            " [0.02811608 0.02913583 0.03140371 0.02759737]\n",
            " [0.         0.         0.         0.        ]\n",
            " [0.         0.         0.         0.        ]] (4, 4)\n"
          ]
        }
      ]
    }
  ]
}