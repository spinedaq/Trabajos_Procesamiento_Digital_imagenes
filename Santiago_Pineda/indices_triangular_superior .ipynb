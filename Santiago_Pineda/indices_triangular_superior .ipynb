{
  "nbformat": 4,
  "nbformat_minor": 0,
  "metadata": {
    "colab": {
      "name": "indices_triangular_superior.ipynb",
      "provenance": []
    },
    "kernelspec": {
      "name": "python3",
      "display_name": "Python 3"
    },
    "language_info": {
      "name": "python"
    }
  },
  "cells": [
    {
      "cell_type": "code",
      "source": [
        "def indices_tri_sup(matrix):\n",
        "\n",
        "  \"\"\"\n",
        "  DESCRIPCICÓN: Función para hallar los indices de los elementos de la triangular\n",
        "  superior de una matrix nxn.\n",
        "  -----------------------------------------------------------------------------\n",
        "  -----------------------------------------------------------------------------\n",
        "  PARÁMETROS DE ENTRADA:\n",
        "  matrix(array): Matrix a la cual se le queire hallar los indices de los elementos \n",
        "  de su triangular superior\n",
        "  -----------------------------------------------------------------------------\n",
        "  -----------------------------------------------------------------------------\n",
        "  RETORNO:\n",
        "  indices(tuple): Tupla con los indices de los elementos de la triangular superior\n",
        "  \"\"\"\n",
        "\n",
        "  #Calculando el número de elementos que tiene la triangular superior:\n",
        "  dim=len(matrix)\n",
        "  sum=dim\n",
        "  a=0\n",
        "  for i in range((dim-1)):\n",
        "    a=a+1\n",
        "    sum=sum+(dim-a) #Número de elementos que tiene la triangular superior\n",
        "\n",
        "  #Hallando los indices de las filas de los elementos de la triangular superior:\n",
        "  filas=np.zeros(sum,dtype=int)\n",
        "  a=0\n",
        "  c=5\n",
        "  cc=-1\n",
        "  for i in range(sum):\n",
        "    filas[i]=a\n",
        "    cc=cc+1\n",
        "    if (i==(c-1)):\n",
        "      a=a+1\n",
        "      c=c+cc\n",
        "      cc=-1\n",
        "  filas  #Indices de las filas de los elementos de la triangular superior\n",
        "\n",
        "  \n",
        "  #Hallando los indices de las columnas de los elementos de la triangular superior:\n",
        "  colums=np.zeros(sum,dtype=int)\n",
        "  a=0\n",
        "  c=5\n",
        "  cc=-1\n",
        "  b=0\n",
        "  for i in range(sum):\n",
        "    colums[i]=a\n",
        "    a=a+1\n",
        "    cc=cc+1\n",
        "    if (i==(c-1)):\n",
        "      b=b+1\n",
        "      a=b\n",
        "      c=c+cc\n",
        "      cc=-1\n",
        "  colums #Indices de las columnas de los elementos de la triangular superior\n",
        "\n",
        "  indices=(filas,colums) #Tupla con los indices de los elementos de la triangular superior\n",
        "  return indices\n",
        "\n",
        "\n",
        "  "
      ],
      "metadata": {
        "id": "tstTzN7-tUWp"
      },
      "execution_count": 47,
      "outputs": []
    },
    {
      "cell_type": "code",
      "source": [
        "#Probando la función:\n",
        "a=[[4,3,2,1,2],[24,24,23,3,5],[2,3,54,3,6],[2,3,2,3,7],[2,5,3,5,3]]\n",
        "a=np.array(a)\n",
        "a"
      ],
      "metadata": {
        "colab": {
          "base_uri": "https://localhost:8080/"
        },
        "id": "YhZzEcJPuwIq",
        "outputId": "c6d7fe46-30a2-45f4-bc49-5f48779dc2ba"
      },
      "execution_count": 48,
      "outputs": [
        {
          "output_type": "execute_result",
          "data": {
            "text/plain": [
              "array([[ 4,  3,  2,  1,  2],\n",
              "       [24, 24, 23,  3,  5],\n",
              "       [ 2,  3, 54,  3,  6],\n",
              "       [ 2,  3,  2,  3,  7],\n",
              "       [ 2,  5,  3,  5,  3]])"
            ]
          },
          "metadata": {},
          "execution_count": 48
        }
      ]
    },
    {
      "cell_type": "code",
      "source": [
        "indices=indices_tri_sup(a)\n",
        "a[indices]"
      ],
      "metadata": {
        "colab": {
          "base_uri": "https://localhost:8080/"
        },
        "id": "wG18Ud1mu22u",
        "outputId": "3f7a9087-3a8b-4160-9f1b-144e15c72bf4"
      },
      "execution_count": 50,
      "outputs": [
        {
          "output_type": "execute_result",
          "data": {
            "text/plain": [
              "array([ 4,  3,  2,  1,  2, 24, 23,  3,  5, 54,  3,  6,  3,  7,  3])"
            ]
          },
          "metadata": {},
          "execution_count": 50
        }
      ]
    }
  ]
}