{
  "nbformat": 4,
  "nbformat_minor": 0,
  "metadata": {
    "colab": {
      "name": "_imagenes_de_un_solo_fondo.ipynb",
      "provenance": []
    },
    "kernelspec": {
      "name": "python3",
      "display_name": "Python 3"
    },
    "language_info": {
      "name": "python"
    }
  },
  "cells": [
    {
      "cell_type": "code",
      "source": [
        "import numpy as np\n",
        "import matplotlib.pyplot as plt"
      ],
      "metadata": {
        "id": "TTPO2RaZCX9T"
      },
      "execution_count": 15,
      "outputs": []
    },
    {
      "cell_type": "code",
      "execution_count": 16,
      "metadata": {
        "colab": {
          "base_uri": "https://localhost:8080/",
          "height": 658
        },
        "id": "opg4Jg1cBzGU",
        "outputId": "a1ece718-e32e-40d8-972c-b2436ef5f5f0"
      },
      "outputs": [
        {
          "output_type": "stream",
          "name": "stderr",
          "text": [
            "Clipping input data to the valid range for imshow with RGB data ([0..1] for floats or [0..255] for integers).\n",
            "Clipping input data to the valid range for imshow with RGB data ([0..1] for floats or [0..255] for integers).\n",
            "Clipping input data to the valid range for imshow with RGB data ([0..1] for floats or [0..255] for integers).\n",
            "Clipping input data to the valid range for imshow with RGB data ([0..1] for floats or [0..255] for integers).\n"
          ]
        },
        {
          "output_type": "execute_result",
          "data": {
            "text/plain": [
              "Text(0.5, 1.0, 'Black image')"
            ]
          },
          "metadata": {},
          "execution_count": 16
        },
        {
          "output_type": "display_data",
          "data": {
            "text/plain": [
              "<Figure size 864x720 with 5 Axes>"
            ],
            "image/png": "[encoded data removed]"
          },
          "metadata": {
            "needs_background": "light"
          }
        }
      ],
      "source": [
        "plt.figure(figsize=(12,10))\n",
        "#Red:\n",
        "plt.subplot(2,3,1)\n",
        "red=np.zeros((100,100,3))+np.array([255,0,0]) #Hace broadcasting\n",
        "plt.imshow(red)\n",
        "plt.xlabel(\"W\")\n",
        "plt.ylabel(\"H\")\n",
        "plt.title(\"Red image\")\n",
        "\n",
        "#Blue\n",
        "plt.subplot(2,3,2)\n",
        "blue=np.zeros((100,100,3))+np.array([0,0,255]) #Hace broadcasting\n",
        "plt.imshow(blue)\n",
        "plt.xlabel(\"W\")\n",
        "plt.ylabel(\"H\")\n",
        "plt.title(\"Blue image\")\n",
        "\n",
        "#Green\n",
        "plt.subplot(2,3,3)\n",
        "gre=np.zeros((100,100,3))+np.array([0,128,0]) #Hace broadcasting\n",
        "plt.imshow(gre)\n",
        "plt.xlabel(\"W\")\n",
        "plt.ylabel(\"H\")\n",
        "plt.title(\"Green image\")\n",
        "\n",
        "#White:\n",
        "plt.subplot(2,3,4)\n",
        "whit=np.zeros((100,100,3))+np.array([255,255,255]) #Hace broadcasting\n",
        "plt.imshow(whit)\n",
        "plt.xlabel(\"W\")\n",
        "plt.ylabel(\"H\")\n",
        "plt.title(\"White image\")\n",
        "\n",
        "#Black\n",
        "plt.subplot(2,3,5)\n",
        "black=np.zeros((100,100,3)) #Hace broadcasting\n",
        "plt.imshow(black)\n",
        "plt.xlabel(\"W\")\n",
        "plt.ylabel(\"H\")\n",
        "plt.title(\"Black image\")"
      ]
    }
  ]
}