{
  "cells": [
    {
      "cell_type": "markdown",
      "source": [
        "#Curva ROC(Carácteristicas de Funcionamiento del Receptor) y AUC(Área Bajo la curva de la curva ROC):\n",
        "Es una de las métricas de desempeño más importantes cuando se trata de tareas de clasificasión. Entonces, la curva ROC lo que nos indicará es que tan bien puede distinguir el módelo entre dos clases(lo cual lleva a concluir que la curva ROC es utilizada para clasificasión binaria y ya veremos la extensión a clasificasión multiclase y multisalida).\n",
        "\n",
        "Para calcular la curva ROC se necesita de el vector de salida original($y$) y de un vector de probabilidades($scores$), que indique cual es la probabilidad de que cada instancia pertenezca a la clase positiva.\n",
        "Luego, lo que se hace es establecer un umbral de probabilidad a partir del cual se tome la instancia como perteneciente a la clase positiva o a la clase negativa y a partir de esto encontrar la matrix de confusión, para a partir de esta hallar lo que es la sensibilidad o exhaustividad(recall) y la especificidad, como sigue:\n",
        "\n",
        "$sensibilidad=\\frac{TP}{TP+FN}$\n",
        "\n",
        "$especificidad=\\frac{TN}{TN+FP}$\n",
        "\n",
        "Entonces, la sensibilidad es la proporción de pacientes que se identificaron correctamente en la clase positiva. Es de destacar que:\n",
        "\n",
        "$TPR(True Positive Rate)=sensibilidad$\n",
        "\n",
        "\n",
        "Mientras la especificidad es la proporción de pacientes que se identificaron correctamente en la clase negativa. Es de destacar que:\n",
        "\n",
        "$FPR(False Positive Rate)=1-especificidad=\\frac{FP}{FP+TN}$\n",
        "\n",
        "También es de destacar que si la sensibilidad aumenta, la especificidad disminuye y viceversa, siendo por esta razón que la curva roc es TPRvsFPR, es decir, tasa de verdaderos positivos versus tasa de falsos positivos. \n",
        "\n",
        "En conclusión, para trasar la curva ROC lo que se hace es hallar TPR y FPR para varios valores de probabilidad umbral y luego se unen estos puntos, obteneiendo la curva ROC.\n",
        "\n",
        "**AUC:** Es el área bajo la curva ROC y es la que me indica que tan bien o que tan mal distingue mi modelo entre las dos clases. \n",
        "el AUC ideal es 1; pues esto indicaría que mi modelo es un clasificador perfecto, es decir, distingue perfectamente las dos clases.\n",
        "\n",
        "Si obtenemos un AUC de 0.7, esto indica que hay una probabilidad del 70%, de que mi modelo pueda distinguir entre clase positiva y clase negativa.\n",
        "\n",
        "El pero AUC es de 0; pues esto indica de que el modelo nunca es capaz de distinguir entre clase positiva y clase negativa.\n",
        "\n",
        "En conclusión, entre el AUC más tienda a 1, quiere decir, que mejor es mi modelo y entre el AUC más tienda a 0, queire decir qe peor es mi modelo.\n",
        "\n",
        "**Ventajas de la curva ROC:**\n",
        "● Es una representación fácilmente comprensible de su capacidad de discriminación en todo el rango de valores.\n",
        "\n",
        "● No requieren un nivel de decisión particular porque comprende todo el rango posible de valores.\n",
        "\n",
        "● Es independiente de la prevalencia.\n",
        "\n",
        "**Desventajas de la Curva ROC**:\n",
        "● No se muestran los puntos de corte, sólo se muestran su sensibilidad y especificidad asociadas.\n",
        "\n",
        "● Tampoco se muestra el número de sujetos.\n",
        "\n",
        "● **El disminuir el tamaño de la muestra la curva tiende a hacerse más escalonada y desigual.(quizás la desventaja que más se aprecia en las siguiente simulaciones)**\n",
        "\n",
        "● Si no se poseen programas informáticos, el cálculo de los parámetros y la generación de la curva son difíciles. \n",
        "\n",
        "**Curva ROC para clasificasión multiclase**: Para clasificasión multiclase, lo que se hace es obtener una curva ROC por cada una de las clases, por ejemplo, para la clase A, se toma la clase A como clase positiva y el resto de las clases como clase negativa y así para las demás clases.\n",
        "\n",
        "**Curva ROC para clasificasión multisalida**: Para clasificasión multisalida, lo que se hace es que para cada salida, se obtiene una curva ROC o un conjunto de curvas ROC, de acuerdo al número de clases de cada salida, tal como se específico anteriormente(si la salida es binaria o multiclase).\n",
        "\n",
        "\n"
      ],
      "metadata": {
        "id": "25UfJ7QyHCtZ"
      }
    },
    {
      "cell_type": "markdown",
      "source": [
        "#Generalización de métricas de desempeño para tareas de clasificasión binaria, multiclase y multisalida:\n",
        "\n",
        "#Clasificasión Binaria:\n",
        "Las siguiente son las métricas de desempeño estudiadas para clasificasión binaria:\n",
        "\n",
        "**Exactitud**:Es la relación entre el número de muestras clasificadas correctamente y el número de muestras total:\n",
        "\n",
        "$Exactitud=\\frac{M}{N}$\n",
        "\n",
        "**Precisión**:Indica que proporción de las muestras predecidas como pertenecientes a la clase positiva, son verdaderamente pertenecientes a la clase positiva:\n",
        "\n",
        "$Precision=\\frac{TP}{TP+FP}$\n",
        "\n",
        "**Exhaustividad**: Indica que proporción de las muestras positivas son correctamente clasificadas: \n",
        "\n",
        "$Ehaustividad=\\frac{TP}{TP+FN}$\n",
        "\n",
        "Es de destacar, que cuando la exhaustividad aumente, la precisión disminuye y viceversa( son inversamente proporcionales).\n",
        "\n",
        "**F1 Score**: Métrica utilizada para medir la precisión y la exhaustividad en conjunto:\n",
        "\n",
        "$F2_score=2*\\frac{exhaustividad*precision}{exhaustividad+precision}$\n",
        "\n",
        "**F1 Ponderado**: Es una extensión del f1 score, en la cual se le da ,mayor relevancia a la precisión o a la exhaustividad a través de un parámetro $\\beta$, según la aplicasión:\n",
        "\n",
        "$F1_ponderado=(1+\\beta ^{2})\\frac{exhaustividad*precision}{\\beta ^{2}*precsiion+exhaustividad}$\n",
        "\n",
        "#Clasificasión Multiclase:\n",
        "Se utlizan exactamente las mismas métricas que en clasificasión binaria, solo que por cada clase se saca una métrica, por ejemplo, para sacar las métricas de la clase A, se toma la clase A como positiva y las otras clases como negativas y así para las demás clases. Luego se hace una ponderación de las respectivas métricas obtenidas en cada clase, hay 2 tipos de ponderaciones:\n",
        "\n",
        "- Ponderación macro: Se leda el mismo peso a cada una de las métricas de cada clase.\n",
        "\n",
        "- Ponderación micro: Se le da más peso a algunas métircas de su respectuva clase, según la cantidad de veces que aperezca cada clase.\n",
        "\n",
        "#Clasificasión Multisalida: \n",
        "Se utilizan exactamente las mismas métricas que en clasificasión binaria y multiclase, solom que por cada salida obtendré una métricas, es decir, a cada salida se le aplica clasificasión multiclase o clasificasión binaria(según el número de clases de cada salida).\n"
      ],
      "metadata": {
        "id": "Jne5asPGUmKi"
      }
    },
    {
      "cell_type": "code",
      "execution_count": 273,
      "metadata": {
        "id": "sCECDEbPJ4g6"
      },
      "outputs": [],
      "source": [
        "import numpy as np\n",
        "import tensorflow.keras.metrics as metricas\n",
        "import sklearn.metrics as metrics\n",
        "import pandas as pd\n",
        "import seaborn as sns\n",
        "from sklearn.metrics import roc_curve,auc\n",
        "import matplotlib.pyplot as plt\n",
        "from sklearn.metrics import confusion_matrix"
      ]
    },
    {
      "cell_type": "code",
      "execution_count": 274,
      "metadata": {
        "id": "0FSiFey2hbHw"
      },
      "outputs": [],
      "source": [
        "class Metrics_Sklearn():\n",
        "  \"\"\"\n",
        "  DESCRIPCIÓN: Clase para evaluar métricas de desempeño en regresión (mse y mae) y clasificación (exactitud,precisión,\n",
        "  exhaustividad, f1_score y f1_ponderado), además, para el caso de clasificación, permite obtener la matrix de confusión y \n",
        "  la curva ROC  y el AUC.\n",
        "  -------------------------------------------------------------------------------------------------------------------------\n",
        "  -------------------------------------------------------------------------------------------------------------------------\n",
        "  ATRIBUTOS:\n",
        "  - y_orig(ndarray): Tensor con la salida original\n",
        "  - y_pred(ndarray): Tensor con la predicción de la salida\n",
        "  - tarea(string):Para indicar si se trata de una tarea de regresión o clasificasión(\"regresion\" or \"clasificasion\")\n",
        "  -------------------------------------------------------------------------------------------------------------------------\n",
        "  -------------------------------------------------------------------------------------------------------------------------\n",
        "  MÉTODOS:\n",
        "  - MSE:Para calcular el mean squared error\n",
        "  - MAE:Para calcular el mean absolute error\n",
        "  - all_metrics: Para calcular todas las metricas de clasificasión incluidas en esta clase\n",
        "  Parámetros:\n",
        "             - clasificasion_type(string): para indicar si se trata de una clasificasión binaria, multiclase o multisalida (\"binary\",\"multiclase\" or \"multisalida\")\n",
        "             - beta(float): parámetro beta para el caso de la métirca f1 ponderado (por defecto beta=2)\n",
        "  - matrix_confusion: para graficar la matrix de confusión en el caso de clasificasión\n",
        "  Parámetros:\n",
        "             - clasificasion_type(string): para indicar si se trata de una clasificasión binaria, multiclase o multisalida (\"binary\",\"multiclase\" or \"multisalida\")\n",
        "  - roc_auc_curve: para graficar la curva ROC y mostrar el AUC.\n",
        "  Parámetros:\n",
        "             - scores(ndarray): Tensor con las probabilidades de que cada muestra pertenezca a la clase positiva.\n",
        "             - clasificasion_type(string): para indicar si se trata de una clasificasión binaria, multiclase o multisalida (\"binary\",\"multiclase\" or \"multisalida\")\n",
        "  \"\"\"\n",
        "\n",
        "  def __init__(self,y_orig,y_pred,tarea):\n",
        "    self.y_orig=y_orig\n",
        "    self.y_pred=y_pred\n",
        "    self.tarea=tarea\n",
        "\n",
        "\n",
        "  def MSE(self):\n",
        "    if self.tarea==\"regresion\":\n",
        "      mse=metrics.mean_squared_error(self.y_orig,self.y_pred)\n",
        "    else:\n",
        "      mse=\"Solo aplica para tareas de regresión\"\n",
        "    return mse\n",
        "\n",
        "  def MAE(self):\n",
        "    if self.tarea==\"regresion\":\n",
        "      mae=metrics.mean_absolute_error(self.y_orig,self.y_pred)\n",
        "    else:\n",
        "      mae=\"Solo aplica para tareas de regresión\"\n",
        "    return mae\n",
        "  \n",
        "  def all_metrics(self,clasificasion_type,beta=2):\n",
        "    if self.tarea==\"clasificacion\":\n",
        "      if clasificasion_type==\"binary\":\n",
        "        exactitud=metrics.accuracy_score(self.y_orig,self.y_pred)\n",
        "        precision=metrics.precision_score(self.y_orig,self.y_pred)\n",
        "        exhaustividad=metrics.recall_score(self.y_orig,self.y_pred)\n",
        "        f1_score=metrics.f1_score(self.y_orig,self.y_pred)\n",
        "        f1_ponderado=metrics.fbeta_score(self.y_orig,self.y_pred,beta=beta)\n",
        "      elif clasificasion_type==\"multiclase\":\n",
        "        exactitud=metrics.accuracy_score(self.y_orig,self.y_pred)\n",
        "        precision=metrics.precision_score(self.y_orig,self.y_pred, average=\"macro\")\n",
        "        exhaustividad=metrics.recall_score(self.y_orig,self.y_pred,average=\"macro\")\n",
        "        f1_score=metrics.f1_score(self.y_orig,self.y_pred,average=\"macro\")\n",
        "        f1_ponderado=metrics.fbeta_score(self.y_orig,self.y_pred,average=\"macro\",beta=beta)\n",
        "      elif clasificasion_type==\"multisalida\":\n",
        "        exactitud=metrics.accuracy_score(self.y_orig,self.y_pred)\n",
        "        precision=metrics.precision_score(self.y_orig,self.y_pred, average=None)\n",
        "        exhaustividad=metrics.recall_score(self.y_orig,self.y_pred,average=None)\n",
        "        f1_score=metrics.f1_score(self.y_orig,self.y_pred,average=None)\n",
        "        f1_ponderado=metrics.fbeta_score(self.y_orig,self.y_pred,average=None,beta=beta)\n",
        "       \n",
        "\n",
        "    else:\n",
        "      exactitud=\"Aplica solo para tareas de clasificación\"\n",
        "      precision=\"Aplica solo para tareas de clasificación\"\n",
        "      exhaustividad=\"Aplica solo para tareas de clasificación\"\n",
        "      f1_score=\"Aplica solo para tareas de clasificación\"\n",
        "      f1_ponderado=\"Aplica solo para tareas de clasificación\"\n",
        "\n",
        "    return exactitud,precision,exhaustividad,f1_score,f1_ponderado \n",
        "\n",
        "  def matrix_confusion(self, clasificasion_type):\n",
        "    if clasificasion_type==\"multisalida\":\n",
        "      N=self.y_orig.shape[1]\n",
        "      for i in range(N):\n",
        "        orig=self.y_orig[...,i]\n",
        "        pred=self.y_pred[...,i]\n",
        "        clases=np.unique(orig)\n",
        "        matrix_confusion=confusion_matrix(orig,pred)\n",
        "        matrix_confusion=pd.DataFrame(matrix_confusion,index=clases,columns=clases)\n",
        "        plot_mc=sns.heatmap(matrix_confusion,cmap=\"Pastel1\",annot=True)\n",
        "        plot_mc.set(xlabel=\"Original\",ylabel=\"Predicción\",title=\"Salida \"+str(i))\n",
        "        plt.show()\n",
        "    else:\n",
        "      clases=np.unique(self.y_orig)\n",
        "      matrix=confusion_matrix(self.y_orig,self.y_pred)\n",
        "      matrix=pd.DataFrame(matrix,index=clases,columns=clases)\n",
        "      plot_mc=sns.heatmap(matrix,cmap=\"Pastel1\",annot=True)\n",
        "      plot_mc.set(xlabel=\"Original\",ylabel=\"Predicción\",title=\"Confusion Matrix\")\n",
        "      plt.show()\n",
        "\n",
        "  def roc_auc_curve(self,scores,clasificasion_type):\n",
        "    if clasificasion_type==\"binary\":\n",
        "      fpr,tpr,threshold=roc_curve(self.y_orig,scores,pos_label=1)\n",
        "      area=auc(fpr,tpr)\n",
        "      plt.plot(fpr,tpr,label=\"AUC=\"+str(area))\n",
        "      plt.xlabel(\"fpr\")\n",
        "      plt.ylabel(\"tpr\")\n",
        "      plt.title(\"Curve ROC\")\n",
        "      plt.legend()\n",
        "    elif clasificasion_type==\"multiclase\":\n",
        "      clases=np.unique(self.y_orig)\n",
        "      N=clases.shape[0]\n",
        "      for i in range(N):\n",
        "        fpr,tpr,threshold=roc_curve(self.y_orig,scores,pos_label=clases[i])\n",
        "        area=auc(fpr,tpr)\n",
        "        plt.plot(fpr,tpr,label=\"Clase \"+str(clases[i])+\"-AUC=\"+str(area))\n",
        "        plt.xlabel(\"fpr\")\n",
        "        plt.ylabel(\"tpr\")\n",
        "        plt.title(\"Curve ROC\")\n",
        "        plt.legend()\n",
        "    else:\n",
        "      N_outs=self.y_orig.shape[1]\n",
        "      for i in range(N_outs):\n",
        "        plt.figure()\n",
        "        orig=self.y_orig[...,i]\n",
        "        pred=self.y_pred[...,i]\n",
        "        fpr,tpr,threshold=roc_curve(orig,scores,pos_label=1)\n",
        "        area=auc(fpr,tpr)\n",
        "        plt.plot(fpr,tpr,label=\"Salida \"+str(i)+\"-AUC=\"+str(area))\n",
        "        plt.xlabel(\"fpr\")\n",
        "        plt.ylabel(\"tpr\")\n",
        "        plt.title(\"Curve ROC\")\n",
        "        plt.legend()"
      ]
    },
    {
      "cell_type": "markdown",
      "metadata": {
        "id": "7ONg3ZaBOika"
      },
      "source": [
        "#Probando la clase Metrics_Sklearn con regresión:"
      ]
    },
    {
      "cell_type": "code",
      "execution_count": 275,
      "metadata": {
        "colab": {
          "base_uri": "https://localhost:8080/"
        },
        "id": "bKgUjH9MO4tX",
        "outputId": "90de8e62-3a82-4363-c2b0-f0eeee2cbbbb"
      },
      "outputs": [
        {
          "output_type": "stream",
          "name": "stdout",
          "text": [
            "MSE: 0.0775 MAE: 0.17499999999999993\n"
          ]
        }
      ],
      "source": [
        "y_orig_reg=np.array([4,6.7,9,0,1,1.5,1.2,0.7])\n",
        "y_pred_reg=np.array([4,6,8.8,0,0.9,1.3,1.2,0.5])\n",
        "metriks_s_r=Metrics_Sklearn(y_orig_reg,y_pred_reg,tarea=\"regresion\")\n",
        "print(\"MSE:\",metriks_s_r.MSE(),\"MAE:\",metriks_s_r.MAE())"
      ]
    },
    {
      "cell_type": "markdown",
      "metadata": {
        "id": "usBn0JPASJpY"
      },
      "source": [
        "#Probando la clase Metrics_Sklearn con clasificación binaria:"
      ]
    },
    {
      "cell_type": "code",
      "execution_count": 276,
      "metadata": {
        "colab": {
          "base_uri": "https://localhost:8080/"
        },
        "id": "NjTVE12aSQYB",
        "outputId": "5268e33d-4df6-4e91-b23f-e92c40e52f30"
      },
      "outputs": [
        {
          "output_type": "stream",
          "name": "stdout",
          "text": [
            "Exactitud: 0.375 precision: 0.3333333333333333 exhaustividad: 0.25 f1_score: 0.28571428571428575 f1_ponderado: 0.2631578947368421\n"
          ]
        }
      ],
      "source": [
        "y_orig_b=np.array([0,1,0,0,1,1,1,0])\n",
        "y_pred_b=np.array([0,1,1,1,0,0,0,0])\n",
        "metriks_s_b=Metrics_Sklearn(y_orig_b,y_pred_b,tarea=\"clasificacion\")\n",
        "exactitud,precision,exhaustividad,f1_score,f1_ponderado =metriks_s_b.all_metrics(\"binary\")\n",
        "print(\"Exactitud:\",exactitud,\"precision:\",precision,\"exhaustividad:\",exhaustividad,\"f1_score:\",f1_score,\"f1_ponderado:\",f1_ponderado)"
      ]
    },
    {
      "cell_type": "code",
      "source": [
        "metriks_s_b.matrix_confusion(\"binary\")"
      ],
      "metadata": {
        "colab": {
          "base_uri": "https://localhost:8080/",
          "height": 295
        },
        "id": "wkMsNGj2r0yi",
        "outputId": "d75c51a7-c736-4409-c900-f9ecdf2a439c"
      },
      "execution_count": 277,
      "outputs": [
        {
          "output_type": "display_data",
          "data": {
            "text/plain": [
              "<Figure size 432x288 with 2 Axes>"
            ],
            "image/png": "[encoded data removed]"
          },
          "metadata": {
            "needs_background": "light"
          }
        }
      ]
    },
    {
      "cell_type": "code",
      "source": [
        "score = np.array([0.1, 0.4, 0.35, 0.8,0.7,0.5,0.67,0.85])\n",
        "metriks_s_b.roc_auc_curve(score,\"binary\")"
      ],
      "metadata": {
        "colab": {
          "base_uri": "https://localhost:8080/",
          "height": 295
        },
        "id": "ZYXNBgHJBxk-",
        "outputId": "a195afe7-8d59-4fca-9862-a4f448450698"
      },
      "execution_count": 278,
      "outputs": [
        {
          "output_type": "display_data",
          "data": {
            "text/plain": [
              "<Figure size 432x288 with 1 Axes>"
            ],
            "image/png": "[encoded data removed]"
          },
          "metadata": {
            "needs_background": "light"
          }
        }
      ]
    },
    {
      "cell_type": "markdown",
      "metadata": {
        "id": "l1FvqNPSWyLv"
      },
      "source": [
        "#Probando la clase Metrics_Sklearn con clasificación multiclase:"
      ]
    },
    {
      "cell_type": "code",
      "execution_count": 279,
      "metadata": {
        "colab": {
          "base_uri": "https://localhost:8080/"
        },
        "id": "lm7YL-OPWxr4",
        "outputId": "6a399aad-f369-47b7-e5c4-9a757a301590"
      },
      "outputs": [
        {
          "output_type": "stream",
          "name": "stdout",
          "text": [
            "Exactitud: 0.6666666666666666 precision: 0.7222222222222222 exhaustividad: 0.7777777777777777 f1_score: 0.6555555555555556 f1_ponderado: 0.7090132090132091\n"
          ]
        }
      ],
      "source": [
        "y_orig_mc=np.array([4,6,2,6,4,4])\n",
        "y_pred_mc=np.array([4,6,2,6,6,2])\n",
        "metriks_s_mc=Metrics_Sklearn(y_orig_mc,y_pred_mc,tarea=\"clasificacion\")\n",
        "exactitud,precision,exhaustividad,f1_score,f1_ponderado =metriks_s_mc.all_metrics(\"multiclase\")\n",
        "print(\"Exactitud:\",exactitud,\"precision:\",precision,\"exhaustividad:\",exhaustividad,\"f1_score:\",f1_score,\"f1_ponderado:\",f1_ponderado)"
      ]
    },
    {
      "cell_type": "code",
      "source": [
        "metriks_s_mc.matrix_confusion(\"multiclase\")"
      ],
      "metadata": {
        "colab": {
          "base_uri": "https://localhost:8080/",
          "height": 295
        },
        "id": "3jJTcZ2atAyN",
        "outputId": "cc302f77-9715-4f7d-e9f9-f0543aa64e14"
      },
      "execution_count": 280,
      "outputs": [
        {
          "output_type": "display_data",
          "data": {
            "text/plain": [
              "<Figure size 432x288 with 2 Axes>"
            ],
            "image/png": "[encoded data removed]"
          },
          "metadata": {
            "needs_background": "light"
          }
        }
      ]
    },
    {
      "cell_type": "code",
      "source": [
        "scores = np.array([0.1, 0.4, 0.35, 0.8,0.7,0.5])\n",
        "metriks_s_mc.roc_auc_curve(scores,\"multiclase\")"
      ],
      "metadata": {
        "colab": {
          "base_uri": "https://localhost:8080/",
          "height": 295
        },
        "id": "eTQ_RxE8CMOt",
        "outputId": "9365b168-3837-4e35-c7b5-a96cfb67e884"
      },
      "execution_count": 281,
      "outputs": [
        {
          "output_type": "display_data",
          "data": {
            "text/plain": [
              "<Figure size 432x288 with 1 Axes>"
            ],
            "image/png": "[encoded data removed]"
          },
          "metadata": {
            "needs_background": "light"
          }
        }
      ]
    },
    {
      "cell_type": "markdown",
      "metadata": {
        "id": "RXntEHVOYDbQ"
      },
      "source": [
        "#Probando la clase Metrics_Sklearn con clasificación multisalida:\n"
      ]
    },
    {
      "cell_type": "code",
      "execution_count": 282,
      "metadata": {
        "colab": {
          "base_uri": "https://localhost:8080/"
        },
        "id": "KhRuuqXWYLUn",
        "outputId": "815b9852-5596-4bcb-b9a3-49222ea4f61b"
      },
      "outputs": [
        {
          "output_type": "stream",
          "name": "stdout",
          "text": [
            "Exactitud: 0.3333333333333333 precision: [0.33333333 1.         0.5       ] exhaustividad: [1.  1.  0.5] f1_score: [0.5 1.  0.5] f1_ponderado: [0.71428571 1.         0.5       ]\n"
          ]
        }
      ],
      "source": [
        "y_orig_ms = np.array([[1,0, 1], [0, 1, 1], [0, 1, 0]])\n",
        "y_pred_ms = np.array([[1, 0, 1], [1, 1, 0], [1, 1, 1]])\n",
        "metriks_s_ms=Metrics_Sklearn(y_orig_ms,y_pred_ms,tarea=\"clasificacion\")\n",
        "exactitud,precision,exhaustividad,f1_score,f1_ponderado =metriks_s_ms.all_metrics(\"multisalida\")\n",
        "print(\"Exactitud:\",exactitud,\"precision:\",precision,\"exhaustividad:\",exhaustividad,\"f1_score:\",f1_score,\"f1_ponderado:\",f1_ponderado)"
      ]
    },
    {
      "cell_type": "code",
      "source": [
        "metriks_s_ms.matrix_confusion(\"multisalida\")"
      ],
      "metadata": {
        "colab": {
          "base_uri": "https://localhost:8080/",
          "height": 851
        },
        "id": "z85RL6xQtNQL",
        "outputId": "39d3cc15-d1cd-4dd3-af28-9a483ef8df15"
      },
      "execution_count": 283,
      "outputs": [
        {
          "output_type": "display_data",
          "data": {
            "text/plain": [
              "<Figure size 432x288 with 2 Axes>"
            ],
            "image/png": "[encoded data removed]"
          },
          "metadata": {
            "needs_background": "light"
          }
        },
        {
          "output_type": "display_data",
          "data": {
            "text/plain": [
              "<Figure size 432x288 with 2 Axes>"
            ],
            "image/png": "[encoded data removed]"
          },
          "metadata": {
            "needs_background": "light"
          }
        },
        {
          "output_type": "display_data",
          "data": {
            "text/plain": [
              "<Figure size 432x288 with 2 Axes>"
            ],
            "image/png": "[encoded data removed]"
          },
          "metadata": {
            "needs_background": "light"
          }
        }
      ]
    },
    {
      "cell_type": "code",
      "source": [
        "scores=(0.1,0.5,0.7)\n",
        "metriks_s_ms.roc_auc_curve(scores,\"multisalida\")"
      ],
      "metadata": {
        "colab": {
          "base_uri": "https://localhost:8080/",
          "height": 851
        },
        "id": "3y2QlhEkCtQ_",
        "outputId": "597743cd-b988-4041-a153-476a4da57ef5"
      },
      "execution_count": 284,
      "outputs": [
        {
          "output_type": "display_data",
          "data": {
            "text/plain": [
              "<Figure size 432x288 with 1 Axes>"
            ],
            "image/png": "[encoded data removed]"
          },
          "metadata": {
            "needs_background": "light"
          }
        },
        {
          "output_type": "display_data",
          "data": {
            "text/plain": [
              "<Figure size 432x288 with 1 Axes>"
            ],
            "image/png": "[encoded data removed]"
          },
          "metadata": {
            "needs_background": "light"
          }
        },
        {
          "output_type": "display_data",
          "data": {
            "text/plain": [
              "<Figure size 432x288 with 1 Axes>"
            ],
            "image/png": "[encoded data removed]"
          },
          "metadata": {
            "needs_background": "light"
          }
        }
      ]
    },
    {
      "cell_type": "code",
      "execution_count": 285,
      "metadata": {
        "id": "de5upV9vbmzn"
      },
      "outputs": [],
      "source": [
        "class Metrics_Num_Mat():\n",
        "  \"\"\"\n",
        "  DESCRIPCIÓN: Clase para evaluar métricas de desempeño en regresión (mse y mae) y clasificación (exactitud,precisión,\n",
        "  exhaustividad, f1_score y f1_ponderado), además, para el caso de clasificación, permite obtener la matrix de confusión y \n",
        "  la curva ROC  y el AUC.\n",
        "  -------------------------------------------------------------------------------------------------------------------------\n",
        "  -------------------------------------------------------------------------------------------------------------------------\n",
        "  ATRIBUTOS:\n",
        "  - y_orig(ndarray): Tensor con la salida original\n",
        "  - y_pred(ndarray): Tensor con la predicción de la salida\n",
        "  - tarea(string):Para indicar si se trata de una tarea de regresión o clasificasión(\"regresion\" or \"clasificasion\")\n",
        "  -------------------------------------------------------------------------------------------------------------------------\n",
        "  -------------------------------------------------------------------------------------------------------------------------\n",
        "  MÉTODOS:\n",
        "  - MSE:Para calcular el mean squared error\n",
        "  - MAE:Para calcular el mean absolute error\n",
        "  - all_metrics: Para calcular todas las metricas de clasificasión incluidas en esta clase\n",
        "  Parámetros:\n",
        "             - clasificasion_type(string): para indicar si se trata de una clasificasión binaria, multiclase o multisalida (\"binary\",\"multiclase\" or \"multisalida\")\n",
        "             - beta(float): parámetro beta para el caso de la métirca f1 ponderado (por defecto beta=2)\n",
        "  - matrix_confusion: para graficar la matrix de confusión en el caso de clasificasión\n",
        "  Parámetros:\n",
        "             - clasificasion_type(string): para indicar si se trata de una clasificasión binaria, multiclase o multisalida (\"binary\",\"multiclase\" or \"multisalida\")\n",
        "  - roc_auc_curve: para graficar la curva ROC y mostrar el AUC.\n",
        "  Parámetros:\n",
        "             - scores(ndarray): Tensor con las probabilidades de que cada muestra pertenezca a la clase positiva.\n",
        "             - clasificasion_type(string): para indicar si se trata de una clasificasión binaria, multiclase o multisalida (\"binary\",\"multiclase\" or \"multisalida\")\n",
        "  \"\"\"\n",
        "\n",
        "  def __init__(self,y_orig,y_pred,tarea):\n",
        "    self.y_orig=y_orig\n",
        "    self.y_pred=y_pred\n",
        "    self.tarea=tarea\n",
        "\n",
        "\n",
        "  def MSE(self):\n",
        "    if self.tarea==\"regresion\":\n",
        "      mse=0\n",
        "      for i in range(self.y_orig.shape[0]):\n",
        "        mse=mse+(self.y_orig[i]-self.y_pred[i])**2\n",
        "      mse=mse/self.y_orig.shape[0]\n",
        "    else:\n",
        "      mse=\"Solo aplica para tareas de regresión\"\n",
        "    return mse\n",
        "\n",
        "  def MAE(self):\n",
        "    if self.tarea==\"regresion\":\n",
        "      mae=0\n",
        "      for i in range(self.y_orig.shape[0]):\n",
        "        mae=mae+abs(self.y_orig[i]-self.y_pred[i])\n",
        "      mae=mae/self.y_orig.shape[0]\n",
        "    else:\n",
        "      mae=\"Solo aplica para tareas de regresión\"\n",
        "    return mae\n",
        "  \n",
        "  def all_metrics(self,clasificasion_type,beta=2):\n",
        "    if self.tarea==\"clasificacion\":\n",
        "      if clasificasion_type==\"binary\":\n",
        "        M=0\n",
        "        N=self.y_orig.shape[0]\n",
        "        for i in range(N):\n",
        "          if self.y_orig[i]==self.y_pred[i]:\n",
        "            M=M+1\n",
        "        exactitud=M/N\n",
        "\n",
        "        VP=0\n",
        "        VN=0\n",
        "        FP=0\n",
        "        FN=0\n",
        "\n",
        "        for i in range(self.y_orig.shape[0]):\n",
        "          if (self.y_orig[i]==1 and self.y_pred[i]==1):\n",
        "            VP=VP+1\n",
        "          elif (self.y_orig[i]==0 and self.y_pred[i]==0):\n",
        "            VN=VN+1\n",
        "          elif (self.y_orig[i]==0 and self.y_pred[i]==1):\n",
        "            FP=FP+1\n",
        "          else:\n",
        "            FN=FN+1\n",
        "\n",
        "        precision=VP/(VP+FP)\n",
        "        exhaustividad=VP/(VP+FN)\n",
        "        f1_score=2*precision*exhaustividad/(precision+exhaustividad)\n",
        "\n",
        "        B=beta\n",
        "        f1_ponderado=(1+B**2)*(precision*exhaustividad)/((B**2)*precision+exhaustividad)\n",
        "      elif clasificasion_type==\"multiclase\":\n",
        "        M=0\n",
        "        N=self.y_orig.shape[0]\n",
        "        for i in range(N):\n",
        "          if self.y_orig[i]==self.y_pred[i]:\n",
        "            M=M+1\n",
        "        exactitud=M/N\n",
        "\n",
        "        clases=[self.y_orig[0]]\n",
        "        len(clases)\n",
        "        for i in range(1,N):\n",
        "          count=0\n",
        "          for j in range(len(clases)):\n",
        "            if clases[j]!=self.y_orig[i]:\n",
        "              count=count+1\n",
        "          if count==len(clases):\n",
        "            clases=np.append(clases,self.y_orig[i])\n",
        "\n",
        "\n",
        "        VP=np.zeros((len(clases)))\n",
        "        VN=np.zeros((len(clases)))\n",
        "        FP=np.zeros((len(clases)))\n",
        "        FN=np.zeros((len(clases)))\n",
        "        for j in range(len(clases)):\n",
        "          for i in range(N):\n",
        "            if (self.y_orig[i]==clases[j] and self.y_pred[i]==clases[j]):\n",
        "              VP[j]=VP[j]+1\n",
        "            elif (self.y_orig[i]!=clases[j] and self.y_pred[i]!=clases[j]):\n",
        "              VN[j]=VN[j]+1\n",
        "            elif (self.y_orig[i]!=clases[j] and self.y_pred[i]==clases[j]):\n",
        "              FP[j]=FP[j]+1\n",
        "            else:\n",
        "              FN[j]=FN[j]+1\n",
        "\n",
        "        precision=np.zeros((len(clases)))\n",
        "        exhaustividad=np.zeros((len(clases)))\n",
        "        f1_score=np.zeros((len(clases)))\n",
        "        f1_ponderado=np.zeros((len(clases)))\n",
        "\n",
        "        f1_ponderado_total=0\n",
        "        f1_score_total=0\n",
        "        precision_total=0\n",
        "        exhaustividad_total=0\n",
        "        B=2\n",
        "        for i in range(len(clases)):\n",
        "          precision[i]=VP[i]/(VP[i]+FP[i])\n",
        "          precision_total=precision_total+precision[i]\n",
        "\n",
        "          exhaustividad[i]=VP[i]/(VP[i]+FN[i])\n",
        "          exhaustividad_total=exhaustividad_total+exhaustividad[i]\n",
        "\n",
        "          f1_score[i]=2*precision[i]*exhaustividad[i]/(precision[i]+exhaustividad[i])\n",
        "          f1_score_total=f1_score_total+f1_score[i]\n",
        "\n",
        "          f1_ponderado[i]=(1+B**2)*precision[i]*exhaustividad[i]/(B**2*precision[i]+exhaustividad[i])\n",
        "          f1_ponderado_total=f1_ponderado_total+f1_ponderado[i]\n",
        "\n",
        "\n",
        "\n",
        "        precision_prom=precision_total/len(clases)\n",
        "        exhaustividad_prom=exhaustividad_total/len(clases)\n",
        "        f1_score_prom=f1_score_total/len(clases)\n",
        "        f1_ponderado_prom=f1_ponderado_total/len(clases)\n",
        "\n",
        "        precision=precision_prom\n",
        "        exhaustividad=exhaustividad_prom\n",
        "        f1_score=f1_score_prom\n",
        "        f1_ponderado=f1_ponderado_prom\n",
        "  \n",
        "      elif clasificasion_type==\"multisalida\":\n",
        "        n_salidas=self.y_orig.shape[1]\n",
        "        exactitud=np.zeros((n_salidas))\n",
        "        precision=np.zeros((n_salidas))\n",
        "        exhaustividad=np.zeros((n_salidas))\n",
        "        f1_score=np.zeros((n_salidas))\n",
        "        f1_ponderado=np.zeros((n_salidas))\n",
        "        for m in range(n_salidas):\n",
        "           M=0\n",
        "           N=self.y_orig.shape[0]\n",
        "           label_orig=self.y_orig[...,m]\n",
        "           label_pred=self.y_pred[...,m]\n",
        "           for i in range(N):\n",
        "             if label_orig[i]==label_pred[i]:\n",
        "               M=M+1\n",
        "           exactitud[m]=M/N\n",
        "\n",
        "           VP=0\n",
        "           VN=0\n",
        "           FP=0\n",
        "           FN=0\n",
        "\n",
        "           for i in range(label_orig[0]):\n",
        "             if (label_orig[i]==1 and label_pred[i]==1):\n",
        "               VP=VP+1\n",
        "             elif (label_orig[i]==0 and label_pred==0):\n",
        "               VN=VN+1\n",
        "             elif (label_orig[i]==0 and label_pred[i]==1):\n",
        "               FP=FP+1\n",
        "             else:\n",
        "               FN=FN+1\n",
        "\n",
        "           precision[m]=VP/(VP+FP)\n",
        "           exhaustividad[m]=VP/(VP+FN)\n",
        "           f1_score[m]=2*precision[m]*exhaustividad[m]/(precision[m]+exhaustividad[m])\n",
        "\n",
        "           B=beta\n",
        "           f1_ponderado[m]=(1+B**2)*(precision[m]*exhaustividad[m])/((B**2)*precision[m]+exhaustividad[m])\n",
        "       \n",
        "\n",
        "    else:\n",
        "      exactitud=\"Aplica solo para tareas de clasificación\"\n",
        "      precision=\"Aplica solo para tareas de clasificación\"\n",
        "      exhaustividad=\"Aplica solo para tareas de clasificación\"\n",
        "      f1_score=\"Aplica solo para tareas de clasificación\"\n",
        "      f1_ponderado=\"Aplica solo para tareas de clasificación\"\n",
        "\n",
        "    return exactitud,precision,exhaustividad,f1_score,f1_ponderado \n",
        "\n",
        "  def matrix_confusion(self, clasificasion_type):\n",
        "    if clasificasion_type==\"multisalida\":\n",
        "      N=self.y_orig.shape[1]\n",
        "      for i in range(N):\n",
        "        orig=self.y_orig[...,i]\n",
        "        pred=self.y_pred[...,i]\n",
        "        clases=np.unique(orig)\n",
        "        matrix_confusion=confusion_matrix(orig,pred)\n",
        "        matrix_confusion=pd.DataFrame(matrix_confusion,index=clases,columns=clases)\n",
        "        plot_mc=sns.heatmap(matrix_confusion,cmap=\"Pastel1\",annot=True)\n",
        "        plot_mc.set(xlabel=\"Original\",ylabel=\"Predicción\",title=\"Salida \"+str(i))\n",
        "        plt.show()\n",
        "    else:\n",
        "      clases=np.unique(self.y_orig)\n",
        "      matrix=confusion_matrix(self.y_orig,self.y_pred)\n",
        "      matrix=pd.DataFrame(matrix,index=clases,columns=clases)\n",
        "      plot_mc=sns.heatmap(matrix,cmap=\"Pastel1\",annot=True)\n",
        "      plot_mc.set(xlabel=\"Original\",ylabel=\"Predicción\",title=\"Confusion Matrix\")\n",
        "      plt.show()\n",
        "  def roc_auc_curve(self,scores,clasificasion_type):\n",
        "    if clasificasion_type==\"binary\":\n",
        "      fpr,tpr,threshold=roc_curve(self.y_orig,scores,pos_label=1)\n",
        "      area=auc(fpr,tpr)\n",
        "      plt.plot(fpr,tpr,label=\"AUC=\"+str(area))\n",
        "      plt.xlabel(\"fpr\")\n",
        "      plt.ylabel(\"tpr\")\n",
        "      plt.title(\"Curve ROC\")\n",
        "      plt.legend()\n",
        "    elif clasificasion_type==\"multiclase\":\n",
        "      clases=np.unique(self.y_orig)\n",
        "      N=clases.shape[0]\n",
        "      for i in range(N):\n",
        "        fpr,tpr,threshold=roc_curve(self.y_orig,scores,pos_label=clases[i])\n",
        "        area=auc(fpr,tpr)\n",
        "        plt.plot(fpr,tpr,label=\"Clase \"+str(clases[i])+\"-AUC=\"+str(area))\n",
        "        plt.xlabel(\"fpr\")\n",
        "        plt.ylabel(\"tpr\")\n",
        "        plt.title(\"Curve ROC\")\n",
        "        plt.legend()\n",
        "    else:\n",
        "      N_outs=self.y_orig.shape[1]\n",
        "      for i in range(N_outs):\n",
        "        plt.figure()\n",
        "        orig=self.y_orig[...,i]\n",
        "        pred=self.y_pred[...,i]\n",
        "        fpr,tpr,threshold=roc_curve(orig,scores,pos_label=1)\n",
        "        area=auc(fpr,tpr)\n",
        "        plt.plot(fpr,tpr,label=\"Salida \"+str(i)+\"-AUC=\"+str(area))\n",
        "        plt.xlabel(\"fpr\")\n",
        "        plt.ylabel(\"tpr\")\n",
        "        plt.title(\"Curve ROC\")\n",
        "        plt.legend()"
      ]
    },
    {
      "cell_type": "markdown",
      "metadata": {
        "id": "aPWHsTsndHTc"
      },
      "source": [
        "#Probando la clase Metrics_Num_Mat con regresión:"
      ]
    },
    {
      "cell_type": "code",
      "execution_count": 286,
      "metadata": {
        "colab": {
          "base_uri": "https://localhost:8080/"
        },
        "id": "NK_36C_XdM-3",
        "outputId": "6b1e7102-074a-42ba-bd90-c6c1cd1b4ddc"
      },
      "outputs": [
        {
          "output_type": "stream",
          "name": "stdout",
          "text": [
            "MSE: 0.07750000000000001 MAE: 0.1749999999999999\n"
          ]
        }
      ],
      "source": [
        "metriks_nm_r=Metrics_Num_Mat(y_orig_reg,y_pred_reg,tarea=\"regresion\")\n",
        "print(\"MSE:\",metriks_nm_r.MSE(),\"MAE:\",metriks_nm_r.MAE())"
      ]
    },
    {
      "cell_type": "markdown",
      "metadata": {
        "id": "sgsCdFe1fKhs"
      },
      "source": [
        "#Probando la clase Metrics_Num_Mat con clasificación binaria:"
      ]
    },
    {
      "cell_type": "code",
      "execution_count": 287,
      "metadata": {
        "colab": {
          "base_uri": "https://localhost:8080/"
        },
        "id": "te557RutfSV3",
        "outputId": "480d0930-393b-4590-ac86-2582e8c016b5"
      },
      "outputs": [
        {
          "output_type": "stream",
          "name": "stdout",
          "text": [
            "Exactitud: 0.375 precision: 0.3333333333333333 exhaustividad: 0.25 f1_score: 0.28571428571428575 f1_ponderado: 0.2631578947368421\n"
          ]
        }
      ],
      "source": [
        "metriks_nm_b=Metrics_Num_Mat(y_orig_b,y_pred_b,tarea=\"clasificacion\")\n",
        "exactitud,precision,exhaustividad,f1_score,f1_ponderado =metriks_nm_b.all_metrics(\"binary\")\n",
        "print(\"Exactitud:\",exactitud,\"precision:\",precision,\"exhaustividad:\",exhaustividad,\"f1_score:\",f1_score,\"f1_ponderado:\",f1_ponderado)"
      ]
    },
    {
      "cell_type": "code",
      "source": [
        "metriks_nm_b.matrix_confusion(\"binary\")"
      ],
      "metadata": {
        "colab": {
          "base_uri": "https://localhost:8080/",
          "height": 295
        },
        "id": "ppq8NxNwukhF",
        "outputId": "4442f362-9539-4759-ce50-ef25af5ea3da"
      },
      "execution_count": 288,
      "outputs": [
        {
          "output_type": "display_data",
          "data": {
            "text/plain": [
              "<Figure size 432x288 with 2 Axes>"
            ],
            "image/png": "[encoded data removed]"
          },
          "metadata": {
            "needs_background": "light"
          }
        }
      ]
    },
    {
      "cell_type": "code",
      "source": [
        "score = np.array([0.1, 0.4, 0.35, 0.8,0.7,0.5,0.67,0.85])\n",
        "metriks_nm_b.roc_auc_curve(score,\"binary\")"
      ],
      "metadata": {
        "colab": {
          "base_uri": "https://localhost:8080/",
          "height": 295
        },
        "id": "8ixPCnWXBQE5",
        "outputId": "4c208ffd-ee92-47fb-c1be-2c5f39b3b8b8"
      },
      "execution_count": 289,
      "outputs": [
        {
          "output_type": "display_data",
          "data": {
            "text/plain": [
              "<Figure size 432x288 with 1 Axes>"
            ],
            "image/png": "[encoded data removed]"
          },
          "metadata": {
            "needs_background": "light"
          }
        }
      ]
    },
    {
      "cell_type": "markdown",
      "metadata": {
        "id": "RAZlXMcSiiLs"
      },
      "source": [
        "#Probando la clase Metrics_Num_Mat con clasificación multiclase:"
      ]
    },
    {
      "cell_type": "code",
      "execution_count": 290,
      "metadata": {
        "colab": {
          "base_uri": "https://localhost:8080/"
        },
        "id": "DuY0uIxcio53",
        "outputId": "aa9f0430-d37a-477a-eb93-358754d9dda9"
      },
      "outputs": [
        {
          "output_type": "stream",
          "name": "stdout",
          "text": [
            "Exactitud: 0.6666666666666666 precision: 0.7222222222222222 exhaustividad: 0.7777777777777777 f1_score: 0.6555555555555556 f1_ponderado: 0.7090132090132091\n"
          ]
        }
      ],
      "source": [
        "metriks_nm_mc=Metrics_Num_Mat(y_orig_mc,y_pred_mc,tarea=\"clasificacion\")\n",
        "exactitud,precision,exhaustividad,f1_score,f1_ponderado =metriks_nm_mc.all_metrics(\"multiclase\")\n",
        "print(\"Exactitud:\",exactitud,\"precision:\",precision,\"exhaustividad:\",exhaustividad,\"f1_score:\",f1_score,\"f1_ponderado:\",f1_ponderado)"
      ]
    },
    {
      "cell_type": "code",
      "source": [
        "metriks_nm_mc.matrix_confusion(\"multiclase\")"
      ],
      "metadata": {
        "colab": {
          "base_uri": "https://localhost:8080/",
          "height": 295
        },
        "id": "p_c-FykduuAx",
        "outputId": "4e0382c3-b150-40c6-a68c-9c9b2b21d134"
      },
      "execution_count": 291,
      "outputs": [
        {
          "output_type": "display_data",
          "data": {
            "text/plain": [
              "<Figure size 432x288 with 2 Axes>"
            ],
            "image/png": "[encoded data removed]"
          },
          "metadata": {
            "needs_background": "light"
          }
        }
      ]
    },
    {
      "cell_type": "code",
      "source": [
        "scores = np.array([0.1, 0.4, 0.35, 0.8,0.7,0.5])\n",
        "metriks_nm_mc.roc_auc_curve(scores,\"multiclase\")"
      ],
      "metadata": {
        "colab": {
          "base_uri": "https://localhost:8080/",
          "height": 295
        },
        "id": "kxBn47rxCCjb",
        "outputId": "9bfdcd5f-3e7f-4b55-fa1d-bde81466cfdb"
      },
      "execution_count": 292,
      "outputs": [
        {
          "output_type": "display_data",
          "data": {
            "text/plain": [
              "<Figure size 432x288 with 1 Axes>"
            ],
            "image/png": "[encoded data removed]"
          },
          "metadata": {
            "needs_background": "light"
          }
        }
      ]
    },
    {
      "cell_type": "markdown",
      "metadata": {
        "id": "cBtFAPiXnp4R"
      },
      "source": [
        "#Probando la clase Metrics_Num_Mat con clasificación multisalida:"
      ]
    },
    {
      "cell_type": "code",
      "execution_count": 293,
      "metadata": {
        "colab": {
          "base_uri": "https://localhost:8080/"
        },
        "id": "-Z2Arzg_nuzB",
        "outputId": "40f3daa4-3212-4cbb-cb88-ad9618c03ced"
      },
      "outputs": [
        {
          "output_type": "stream",
          "name": "stdout",
          "text": [
            "Exactitud: 0.3333333333333333 precision: [0.33333333 1.         0.5       ] exhaustividad: [1.  1.  0.5] f1_score: [0.5 1.  0.5] f1_ponderado: [0.71428571 1.         0.5       ]\n"
          ]
        }
      ],
      "source": [
        "metriks_nm_ms=Metrics_Num_Mat(y_orig_ms,y_pred_ms,tarea=\"clasificacion\")\n",
        "exactitud,precision,exhaustividad,f1_score,f1_ponderado =metriks_s_ms.all_metrics(\"multisalida\")\n",
        "print(\"Exactitud:\",exactitud,\"precision:\",precision,\"exhaustividad:\",exhaustividad,\"f1_score:\",f1_score,\"f1_ponderado:\",f1_ponderado)"
      ]
    },
    {
      "cell_type": "code",
      "source": [
        "metriks_nm_ms.matrix_confusion(\"multisalida\")"
      ],
      "metadata": {
        "colab": {
          "base_uri": "https://localhost:8080/",
          "height": 851
        },
        "id": "GMVuBJIZuyvu",
        "outputId": "8e9633dd-90a5-40bf-ed29-28138d7b88c0"
      },
      "execution_count": 294,
      "outputs": [
        {
          "output_type": "display_data",
          "data": {
            "text/plain": [
              "<Figure size 432x288 with 2 Axes>"
            ],
            "image/png": "[encoded data removed]"
          },
          "metadata": {
            "needs_background": "light"
          }
        },
        {
          "output_type": "display_data",
          "data": {
            "text/plain": [
              "<Figure size 432x288 with 2 Axes>"
            ],
            "image/png": "[encoded data removed]"
          },
          "metadata": {
            "needs_background": "light"
          }
        },
        {
          "output_type": "display_data",
          "data": {
            "text/plain": [
              "<Figure size 432x288 with 2 Axes>"
            ],
            "image/png": "[encoded data removed]"
          },
          "metadata": {
            "needs_background": "light"
          }
        }
      ]
    },
    {
      "cell_type": "code",
      "source": [
        "scores=(0.1,0.5,0.7)\n",
        "metriks_nm_ms.roc_auc_curve(scores,\"multisalida\")"
      ],
      "metadata": {
        "colab": {
          "base_uri": "https://localhost:8080/",
          "height": 851
        },
        "id": "g-4p4LIaCi1R",
        "outputId": "eea43426-0720-49c3-8209-36f15b1f3d74"
      },
      "execution_count": 295,
      "outputs": [
        {
          "output_type": "display_data",
          "data": {
            "text/plain": [
              "<Figure size 432x288 with 1 Axes>"
            ],
            "image/png": "[encoded data removed]"
          },
          "metadata": {
            "needs_background": "light"
          }
        },
        {
          "output_type": "display_data",
          "data": {
            "text/plain": [
              "<Figure size 432x288 with 1 Axes>"
            ],
            "image/png": "[encoded data removed]"
          },
          "metadata": {
            "needs_background": "light"
          }
        },
        {
          "output_type": "display_data",
          "data": {
            "text/plain": [
              "<Figure size 432x288 with 1 Axes>"
            ],
            "image/png": "[encoded data removed]"
          },
          "metadata": {
            "needs_background": "light"
          }
        }
      ]
    },
    {
      "cell_type": "code",
      "execution_count": 296,
      "metadata": {
        "id": "CgDb2KaWq_o9"
      },
      "outputs": [],
      "source": [
        "class Metrics_Keras():\n",
        "  \"\"\"\n",
        "  DESCRIPCIÓN: Clase para evaluar métricas de desempeño en regresión (mse y mae) y clasificación (exactitud,precisión,\n",
        "  exhaustividad, f1_score y f1_ponderado), además, para el caso de clasificación, permite obtener la matrix de confusión y \n",
        "  la curva ROC  y el AUC.\n",
        "  -------------------------------------------------------------------------------------------------------------------------\n",
        "  -------------------------------------------------------------------------------------------------------------------------\n",
        "  ATRIBUTOS:\n",
        "  - y_orig(ndarray): Tensor con la salida original\n",
        "  - y_pred(ndarray): Tensor con la predicción de la salida\n",
        "  - tarea(string):Para indicar si se trata de una tarea de regresión o clasificasión(\"regresion\" or \"clasificasion\")\n",
        "  -------------------------------------------------------------------------------------------------------------------------\n",
        "  -------------------------------------------------------------------------------------------------------------------------\n",
        "  MÉTODOS:\n",
        "  - MSE:Para calcular el mean squared error\n",
        "  - MAE:Para calcular el mean absolute error\n",
        "  - all_metrics: Para calcular todas las metricas de clasificasión incluidas en esta clase\n",
        "  Parámetros:\n",
        "             - clasificasion_type(string): para indicar si se trata de una clasificasión binaria, multiclase o multisalida (\"binary\",\"multiclase\" or \"multisalida\")\n",
        "             - beta(float): parámetro beta para el caso de la métirca f1 ponderado (por defecto beta=2)\n",
        "  - matrix_confusion: para graficar la matrix de confusión en el caso de clasificasión\n",
        "  Parámetros:\n",
        "             - clasificasion_type(string): para indicar si se trata de una clasificasión binaria, multiclase o multisalida (\"binary\",\"multiclase\" or \"multisalida\")\n",
        "  - roc_auc_curve: para graficar la curva ROC y mostrar el AUC.\n",
        "  Parámetros:\n",
        "             - scores(ndarray): Tensor con las probabilidades de que cada muestra pertenezca a la clase positiva.\n",
        "             - clasificasion_type(string): para indicar si se trata de una clasificasión binaria, multiclase o multisalida (\"binary\",\"multiclase\" or \"multisalida\")\n",
        "  \"\"\"\n",
        "\n",
        "  def __init__(self,y_orig,y_pred,tarea):\n",
        "    self.y_orig=y_orig\n",
        "    self.y_pred=y_pred\n",
        "    self.tarea=tarea\n",
        "\n",
        "\n",
        "  def MSE(self):\n",
        "    if self.tarea==\"regresion\":\n",
        "      mse=metricas.MeanSquaredError()\n",
        "      mse.update_state(self.y_orig,self.y_pred)\n",
        "      mse=mse.result().numpy()\n",
        "    else:\n",
        "      mse=\"Solo aplica para tareas de regresión\"\n",
        "    return mse\n",
        "\n",
        "  def MAE(self):\n",
        "    if self.tarea==\"regresion\":\n",
        "      mae=metricas.MeanAbsoluteError()\n",
        "      mae.update_state(self.y_orig,self.y_pred)\n",
        "      mae=mae.result().numpy()\n",
        "    else:\n",
        "      mae=\"Solo aplica para tareas de regresión\"\n",
        "    return mae\n",
        "  \n",
        "  def all_metrics(self,clasificasion_type,beta=2):\n",
        "    if self.tarea==\"clasificacion\":\n",
        "      if clasificasion_type==\"binary\":\n",
        "        TP=metricas.TruePositives()\n",
        "        TP.update_state(self.y_orig,self.y_pred)\n",
        "        TP=TP.result().numpy()\n",
        "\n",
        "        TN=metricas.TrueNegatives()\n",
        "        TN.update_state(self.y_orig,self.y_pred)\n",
        "        TN=TN.result().numpy()\n",
        "\n",
        "        N=self.y_orig.shape[0]\n",
        "\n",
        "        exactitud=(TP+TN)/N\n",
        "\n",
        "        precision=metricas.Precision()\n",
        "        precision.update_state(self.y_orig,self.y_pred)\n",
        "        precision=precision.result().numpy()\n",
        "\n",
        "        exhaustividad=metricas.Recall()\n",
        "        exhaustividad.update_state(self.y_orig,self.y_pred)\n",
        "        exhaustividad=exhaustividad.result().numpy()\n",
        "\n",
        "        f1_score=2*exhaustividad*precision/(precision+exhaustividad)\n",
        "        f1_ponderado=(1+beta**2)*exhaustividad*precision/(beta**2*precision+exhaustividad)\n",
        "      elif clasificasion_type==\"multiclase\":\n",
        "        M=0\n",
        "        N=self.y_orig.shape[0]\n",
        "        for i in range(N):\n",
        "          if self.y_orig[i]==self.y_pred[i]:\n",
        "            M=M+1\n",
        "        exactitud=M/N\n",
        "\n",
        "        clases=[self.y_orig[0]]\n",
        "        len(clases)\n",
        "        for i in range(1,N):\n",
        "          count=0\n",
        "          for j in range(len(clases)):\n",
        "            if clases[j]!=self.y_orig[i]:\n",
        "              count=count+1\n",
        "          if count==len(clases):\n",
        "            clases=np.append(clases,self.y_orig[i])\n",
        "\n",
        "\n",
        "        VP=np.zeros((len(clases)))\n",
        "        VN=np.zeros((len(clases)))\n",
        "        FP=np.zeros((len(clases)))\n",
        "        FN=np.zeros((len(clases)))\n",
        "        for j in range(len(clases)):\n",
        "          for i in range(N):\n",
        "            if (self.y_orig[i]==clases[j] and self.y_pred[i]==clases[j]):\n",
        "              VP[j]=VP[j]+1\n",
        "            elif (self.y_orig[i]!=clases[j] and self.y_pred[i]!=clases[j]):\n",
        "              VN[j]=VN[j]+1\n",
        "            elif (self.y_orig[i]!=clases[j] and self.y_pred[i]==clases[j]):\n",
        "              FP[j]=FP[j]+1\n",
        "            else:\n",
        "              FN[j]=FN[j]+1\n",
        "\n",
        "        precision=np.zeros((len(clases)))\n",
        "        exhaustividad=np.zeros((len(clases)))\n",
        "        f1_score=np.zeros((len(clases)))\n",
        "        f1_ponderado=np.zeros((len(clases)))\n",
        "\n",
        "        f1_ponderado_total=0\n",
        "        f1_score_total=0\n",
        "        precision_total=0\n",
        "        exhaustividad_total=0\n",
        "        B=2\n",
        "        for i in range(len(clases)):\n",
        "          precision[i]=VP[i]/(VP[i]+FP[i])\n",
        "          precision_total=precision_total+precision[i]\n",
        "\n",
        "          exhaustividad[i]=VP[i]/(VP[i]+FN[i])\n",
        "          exhaustividad_total=exhaustividad_total+exhaustividad[i]\n",
        "\n",
        "          f1_score[i]=2*precision[i]*exhaustividad[i]/(precision[i]+exhaustividad[i])\n",
        "          f1_score_total=f1_score_total+f1_score[i]\n",
        "\n",
        "          f1_ponderado[i]=(1+B**2)*precision[i]*exhaustividad[i]/(B**2*precision[i]+exhaustividad[i])\n",
        "          f1_ponderado_total=f1_ponderado_total+f1_ponderado[i]\n",
        "\n",
        "\n",
        "\n",
        "        precision_prom=precision_total/len(clases)\n",
        "        exhaustividad_prom=exhaustividad_total/len(clases)\n",
        "        f1_score_prom=f1_score_total/len(clases)\n",
        "        f1_ponderado_prom=f1_ponderado_total/len(clases)\n",
        "\n",
        "        precision=precision_prom\n",
        "        exhaustividad=exhaustividad_prom\n",
        "        f1_score=f1_score_prom\n",
        "        f1_ponderado=f1_ponderado_prom\n",
        "  \n",
        "      elif clasificasion_type==\"multisalida\":\n",
        "        n_salidas=self.y_orig.shape[1]\n",
        "        exactitud=np.zeros((n_salidas))\n",
        "        precision=np.zeros((n_salidas))\n",
        "        exhaustividad=np.zeros((n_salidas))\n",
        "        f1_score=np.zeros((n_salidas))\n",
        "        f1_ponderado=np.zeros((n_salidas))\n",
        "        for m in range(n_salidas):\n",
        "           M=0\n",
        "           N=self.y_orig.shape[0]\n",
        "           label_orig=self.y_orig[...,m]\n",
        "           label_pred=self.y_pred[...,m]\n",
        "           for i in range(N):\n",
        "             if label_orig[i]==label_pred[i]:\n",
        "               M=M+1\n",
        "           exactitud[m]=M/N\n",
        "\n",
        "           VP=0\n",
        "           VN=0\n",
        "           FP=0\n",
        "           FN=0\n",
        "\n",
        "           for i in range(label_orig[0]):\n",
        "             if (label_orig[i]==1 and label_pred[i]==1):\n",
        "               VP=VP+1\n",
        "             elif (label_orig[i]==0 and label_pred==0):\n",
        "               VN=VN+1\n",
        "             elif (label_orig[i]==0 and label_pred[i]==1):\n",
        "               FP=FP+1\n",
        "             else:\n",
        "               FN=FN+1\n",
        "\n",
        "           precision[m]=VP/(VP+FP)\n",
        "           exhaustividad[m]=VP/(VP+FN)\n",
        "           f1_score[m]=2*precision[m]*exhaustividad[m]/(precision[m]+exhaustividad[m])\n",
        "\n",
        "           B=beta\n",
        "           f1_ponderado[m]=(1+B**2)*(precision[m]*exhaustividad[m])/((B**2)*precision[m]+exhaustividad[m])\n",
        "       \n",
        "\n",
        "    else:\n",
        "      exactitud=\"Aplica solo para tareas de clasificación\"\n",
        "      precision=\"Aplica solo para tareas de clasificación\"\n",
        "      exhaustividad=\"Aplica solo para tareas de clasificación\"\n",
        "      f1_score=\"Aplica solo para tareas de clasificación\"\n",
        "      f1_ponderado=\"Aplica solo para tareas de clasificación\"\n",
        "\n",
        "    return exactitud,precision,exhaustividad,f1_score,f1_ponderado\n",
        "\n",
        "  def matrix_confusion(self, clasificasion_type):\n",
        "    if clasificasion_type==\"multisalida\":\n",
        "      N=self.y_orig.shape[1]\n",
        "      for i in range(N):\n",
        "        orig=self.y_orig[...,i]\n",
        "        pred=self.y_pred[...,i]\n",
        "        clases=np.unique(orig)\n",
        "        matrix_confusion=confusion_matrix(orig,pred)\n",
        "        matrix_confusion=pd.DataFrame(matrix_confusion,index=clases,columns=clases)\n",
        "        plot_mc=sns.heatmap(matrix_confusion,cmap=\"Pastel1\",annot=True)\n",
        "        plot_mc.set(xlabel=\"Original\",ylabel=\"Predicción\",title=\"Salida \"+str(i))\n",
        "        plt.show()\n",
        "    else:\n",
        "      clases=np.unique(self.y_orig)\n",
        "      matrix=confusion_matrix(self.y_orig,self.y_pred)\n",
        "      matrix=pd.DataFrame(matrix,index=clases,columns=clases)\n",
        "      plot_mc=sns.heatmap(matrix,cmap=\"Pastel1\",annot=True)\n",
        "      plot_mc.set(xlabel=\"Original\",ylabel=\"Predicción\",title=\"Confusion Matrix\")\n",
        "      plt.show()\n",
        "  \n",
        "  def roc_auc_curve(self,scores,clasificasion_type):\n",
        "    if clasificasion_type==\"binary\":\n",
        "      fpr,tpr,threshold=roc_curve(self.y_orig,scores,pos_label=1)\n",
        "      area=auc(fpr,tpr)\n",
        "      plt.plot(fpr,tpr,label=\"AUC=\"+str(area))\n",
        "      plt.xlabel(\"fpr\")\n",
        "      plt.ylabel(\"tpr\")\n",
        "      plt.title(\"Curve ROC\")\n",
        "      plt.legend()\n",
        "    elif clasificasion_type==\"multiclase\":\n",
        "      clases=np.unique(self.y_orig)\n",
        "      N=clases.shape[0]\n",
        "      for i in range(N):\n",
        "        fpr,tpr,threshold=roc_curve(self.y_orig,scores,pos_label=clases[i])\n",
        "        area=auc(fpr,tpr)\n",
        "        plt.plot(fpr,tpr,label=\"Clase \"+str(clases[i])+\"-AUC=\"+str(area))\n",
        "        plt.xlabel(\"fpr\")\n",
        "        plt.ylabel(\"tpr\")\n",
        "        plt.title(\"Curve ROC\")\n",
        "        plt.legend()\n",
        "    else:\n",
        "      N_outs=self.y_orig.shape[1]\n",
        "      for i in range(N_outs):\n",
        "        plt.figure()\n",
        "        orig=self.y_orig[...,i]\n",
        "        pred=self.y_pred[...,i]\n",
        "        fpr,tpr,threshold=roc_curve(orig,scores,pos_label=1)\n",
        "        area=auc(fpr,tpr)\n",
        "        plt.plot(fpr,tpr,label=\"Salida \"+str(i)+\"-AUC=\"+str(area))\n",
        "        plt.xlabel(\"fpr\")\n",
        "        plt.ylabel(\"tpr\")\n",
        "        plt.title(\"Curve ROC\")\n",
        "        plt.legend()\n",
        "\n",
        "\n"
      ]
    },
    {
      "cell_type": "markdown",
      "source": [
        "#Probando la clase Metrics_Keras con regresión:"
      ],
      "metadata": {
        "id": "7GwaRNjPG4kn"
      }
    },
    {
      "cell_type": "code",
      "source": [
        "metriks_k_r=Metrics_Keras(y_orig_reg,y_pred_reg,tarea=\"regresion\")\n",
        "print(\"MSE:\",metriks_k_r.MSE(),\"MAE:\",metriks_k_r.MAE())"
      ],
      "metadata": {
        "colab": {
          "base_uri": "https://localhost:8080/"
        },
        "id": "3V343vegEWNR",
        "outputId": "f7af6946-f7ca-4f5a-882b-b0b722cdb624"
      },
      "execution_count": 297,
      "outputs": [
        {
          "output_type": "stream",
          "name": "stdout",
          "text": [
            "MSE: 0.07749996 MAE: 0.17499997\n"
          ]
        }
      ]
    },
    {
      "cell_type": "markdown",
      "source": [
        "#Probando la clase Metrics_Keras con clasificación binaria:"
      ],
      "metadata": {
        "id": "ophTWUY8LQtO"
      }
    },
    {
      "cell_type": "code",
      "source": [
        "metriks_k_b=Metrics_Keras(y_orig_b,y_pred_b,tarea=\"clasificacion\")\n",
        "exactitud,precision,exhaustividad,f1_score,f1_ponderado =metriks_k_b.all_metrics(\"binary\")\n",
        "print(\"Exactitud:\",exactitud,\"precision:\",precision,\"exhaustividad:\",exhaustividad,\"f1_score:\",f1_score,\"f1_ponderado:\",f1_ponderado)"
      ],
      "metadata": {
        "colab": {
          "base_uri": "https://localhost:8080/"
        },
        "id": "yx2FLPQ8LXrc",
        "outputId": "2305309d-3812-45bc-8573-5923927856ac"
      },
      "execution_count": 298,
      "outputs": [
        {
          "output_type": "stream",
          "name": "stdout",
          "text": [
            "Exactitud: 0.375 precision: 0.33333334 exhaustividad: 0.25 f1_score: 0.2857142747664946 f1_ponderado: 0.2631578959751657\n"
          ]
        }
      ]
    },
    {
      "cell_type": "code",
      "source": [
        "metriks_k_b.matrix_confusion(\"binary\")"
      ],
      "metadata": {
        "colab": {
          "base_uri": "https://localhost:8080/",
          "height": 295
        },
        "id": "atcfCwOavAuj",
        "outputId": "be8d8b02-a60a-4824-a19d-ed5f4eed18ce"
      },
      "execution_count": 299,
      "outputs": [
        {
          "output_type": "display_data",
          "data": {
            "text/plain": [
              "<Figure size 432x288 with 2 Axes>"
            ],
            "image/png": "[encoded data removed]"
          },
          "metadata": {
            "needs_background": "light"
          }
        }
      ]
    },
    {
      "cell_type": "code",
      "source": [
        "score = np.array([0.1, 0.4, 0.35, 0.8,0.7,0.5,0.67,0.85])\n",
        "metriks_k_b.roc_auc_curve(score,\"binary\")"
      ],
      "metadata": {
        "colab": {
          "base_uri": "https://localhost:8080/",
          "height": 295
        },
        "id": "sWi5zgeN46ZL",
        "outputId": "59dd0c8c-ca78-4fed-9727-4cbc27c4bbb3"
      },
      "execution_count": 300,
      "outputs": [
        {
          "output_type": "display_data",
          "data": {
            "text/plain": [
              "<Figure size 432x288 with 1 Axes>"
            ],
            "image/png": "[encoded data removed]"
          },
          "metadata": {
            "needs_background": "light"
          }
        }
      ]
    },
    {
      "cell_type": "markdown",
      "source": [
        "#Probando la clase Metrics_Keras con clasificación multiclase:"
      ],
      "metadata": {
        "id": "sa6-UjNpgrAL"
      }
    },
    {
      "cell_type": "code",
      "execution_count": 301,
      "metadata": {
        "colab": {
          "base_uri": "https://localhost:8080/"
        },
        "outputId": "e0bbc7c9-3834-4cff-b397-63c97eaf8943",
        "id": "W8N5agEugkqI"
      },
      "outputs": [
        {
          "output_type": "stream",
          "name": "stdout",
          "text": [
            "Exactitud: 0.6666666666666666 precision: 0.7222222222222222 exhaustividad: 0.7777777777777777 f1_score: 0.6555555555555556 f1_ponderado: 0.7090132090132091\n"
          ]
        }
      ],
      "source": [
        "metriks_k_mc=Metrics_Keras(y_orig_mc,y_pred_mc,tarea=\"clasificacion\")\n",
        "exactitud,precision,exhaustividad,f1_score,f1_ponderado =metriks_k_mc.all_metrics(\"multiclase\")\n",
        "print(\"Exactitud:\",exactitud,\"precision:\",precision,\"exhaustividad:\",exhaustividad,\"f1_score:\",f1_score,\"f1_ponderado:\",f1_ponderado)"
      ]
    },
    {
      "cell_type": "code",
      "source": [
        "scores = np.array([0.1, 0.4, 0.35, 0.8,0.7,0.5])\n",
        "metriks_k_mc.roc_auc_curve(scores,\"multiclase\")"
      ],
      "metadata": {
        "colab": {
          "base_uri": "https://localhost:8080/",
          "height": 295
        },
        "id": "mVBBuZzC8pK1",
        "outputId": "4ac05fd6-904b-4042-8122-22b788d7359c"
      },
      "execution_count": 302,
      "outputs": [
        {
          "output_type": "display_data",
          "data": {
            "text/plain": [
              "<Figure size 432x288 with 1 Axes>"
            ],
            "image/png": "[encoded data removed]"
          },
          "metadata": {
            "needs_background": "light"
          }
        }
      ]
    },
    {
      "cell_type": "code",
      "source": [
        "metriks_k_mc.matrix_confusion(\"multiclase\")"
      ],
      "metadata": {
        "colab": {
          "base_uri": "https://localhost:8080/",
          "height": 295
        },
        "id": "4XmwLVX7vKEA",
        "outputId": "438c4d43-0b1d-49b5-f257-b4bdb51d027c"
      },
      "execution_count": 303,
      "outputs": [
        {
          "output_type": "display_data",
          "data": {
            "text/plain": [
              "<Figure size 432x288 with 2 Axes>"
            ],
            "image/png": "[encoded data removed]"
          },
          "metadata": {
            "needs_background": "light"
          }
        }
      ]
    },
    {
      "cell_type": "code",
      "execution_count": 304,
      "metadata": {
        "colab": {
          "base_uri": "https://localhost:8080/"
        },
        "outputId": "21a0dd18-3ee9-4a4d-db97-2fb8b52cf3c0",
        "id": "OuwHsBU5hO41"
      },
      "outputs": [
        {
          "output_type": "stream",
          "name": "stdout",
          "text": [
            "Exactitud: 0.3333333333333333 precision: [0.33333333 1.         0.5       ] exhaustividad: [1.  1.  0.5] f1_score: [0.5 1.  0.5] f1_ponderado: [0.71428571 1.         0.5       ]\n"
          ]
        }
      ],
      "source": [
        "metriks_k_ms=Metrics_Keras(y_orig_ms,y_pred_ms,tarea=\"clasificacion\")\n",
        "exactitud,precision,exhaustividad,f1_score,f1_ponderado =metriks_s_ms.all_metrics(\"multisalida\")\n",
        "print(\"Exactitud:\",exactitud,\"precision:\",precision,\"exhaustividad:\",exhaustividad,\"f1_score:\",f1_score,\"f1_ponderado:\",f1_ponderado)"
      ]
    },
    {
      "cell_type": "code",
      "source": [
        "metriks_k_ms.matrix_confusion(\"multisalida\")"
      ],
      "metadata": {
        "colab": {
          "base_uri": "https://localhost:8080/",
          "height": 851
        },
        "id": "MIaHtmi6vR9-",
        "outputId": "19ace5e6-d055-4e8c-a328-bc5ea05bf86a"
      },
      "execution_count": 305,
      "outputs": [
        {
          "output_type": "display_data",
          "data": {
            "text/plain": [
              "<Figure size 432x288 with 2 Axes>"
            ],
            "image/png": "[encoded data removed]"
          },
          "metadata": {
            "needs_background": "light"
          }
        },
        {
          "output_type": "display_data",
          "data": {
            "text/plain": [
              "<Figure size 432x288 with 2 Axes>"
            ],
            "image/png": "[encoded data removed]"
          },
          "metadata": {
            "needs_background": "light"
          }
        },
        {
          "output_type": "display_data",
          "data": {
            "text/plain": [
              "<Figure size 432x288 with 2 Axes>"
            ],
            "image/png": "[encoded data removed]"
          },
          "metadata": {
            "needs_background": "light"
          }
        }
      ]
    },
    {
      "cell_type": "code",
      "source": [
        "scores=(0.1,0.5,0.7)\n",
        "metriks_k_ms.roc_auc_curve(scores,\"multisalida\")"
      ],
      "metadata": {
        "colab": {
          "base_uri": "https://localhost:8080/",
          "height": 851
        },
        "id": "taEO-B-GArOX",
        "outputId": "ecd4b9e8-0dea-4fd7-b164-2cb1d7144052"
      },
      "execution_count": 306,
      "outputs": [
        {
          "output_type": "display_data",
          "data": {
            "text/plain": [
              "<Figure size 432x288 with 1 Axes>"
            ],
            "image/png": "[encoded data removed]"
          },
          "metadata": {
            "needs_background": "light"
          }
        },
        {
          "output_type": "display_data",
          "data": {
            "text/plain": [
              "<Figure size 432x288 with 1 Axes>"
            ],
            "image/png": "[encoded data removed]"
          },
          "metadata": {
            "needs_background": "light"
          }
        },
        {
          "output_type": "display_data",
          "data": {
            "text/plain": [
              "<Figure size 432x288 with 1 Axes>"
            ],
            "image/png": "[encoded data removed]"
          },
          "metadata": {
            "needs_background": "light"
          }
        }
      ]
    }
  ],
  "metadata": {
    "colab": {
      "name": "Métricas_regresión_y_clasificasión.ipynb",
      "provenance": [],
      "collapsed_sections": []
    },
    "kernelspec": {
      "display_name": "Python 3",
      "name": "python3"
    },
    "language_info": {
      "name": "python"
    }
  },
  "nbformat": 4,
  "nbformat_minor": 0
}